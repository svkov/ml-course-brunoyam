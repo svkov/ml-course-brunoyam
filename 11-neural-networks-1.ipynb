{
  "nbformat": 4,
  "nbformat_minor": 0,
  "metadata": {
    "colab": {
      "name": "11-neural-networks-1.ipynb",
      "provenance": [],
      "collapsed_sections": []
    },
    "kernelspec": {
      "name": "python3",
      "display_name": "Python 3"
    },
    "language_info": {
      "name": "python"
    }
  },
  "cells": [
    {
      "cell_type": "code",
      "metadata": {
        "id": "K12MPvLBJnBH"
      },
      "source": [
        "import pandas as pd\n",
        "import numpy as np\n",
        "import matplotlib.pyplot as plt\n",
        "import tensorflow as tf\n",
        "\n",
        "from tensorflow.keras import Sequential\n",
        "from tensorflow.keras.layers import Dense, Dropout\n",
        "from tensorflow.keras.metrics import categorical_crossentropy, categorical_accuracy\n",
        "from tensorflow.keras.optimizers import SGD\n",
        "from tensorflow.keras.utils import to_categorical\n",
        "\n",
        "from sklearn.model_selection import train_test_split"
      ],
      "execution_count": null,
      "outputs": []
    },
    {
      "cell_type": "markdown",
      "metadata": {
        "id": "kZWr6h_PGLhT"
      },
      "source": [
        "# Нейронные сети\n",
        "\n",
        "Нейронные сети - очень широкая тема. В курсе представлен краткий обзор основных подходов и инструментов, которые чаще всего используются на практике.\n",
        "\n",
        "Будем использовать Keras с бэкендом на tensorflow.\n",
        "\n",
        "[Тут](https://keras.io/examples/) есть очень много примеров для разных задач.\n",
        "\n",
        "Также в keras/tf есть возможность самому написать алгоритм обучение и получения предсказания для сети. Этот материал выходит за рамки нашего курса, но при желании можно ознакомиться, например, [здесь](https://keras.io/guides/customizing_what_happens_in_fit/)."
      ]
    },
    {
      "cell_type": "markdown",
      "metadata": {
        "id": "-KCs6wLVvzDr"
      },
      "source": [
        "## Основы\n",
        "\n",
        "Единица вычисления в нейросети - нейрон. \n",
        "\n",
        "Нейрон принимает на вход вектор, считает взвешенную сумму элементов, применяет функцию активации (например, сигмоидальную, как в логистической регресси) и отдает результат следующему нейрону.\n",
        "\n",
        "Нейроны обычно организуют в слои. Пример на картинке ниже\n",
        "\n",
        "![pic](https://drive.google.com/uc?export=view&id=1iVfZSWU1qjIZOFZpR33YoJ6w-0pBFMUj)\n",
        "\n",
        "В любой нейросети есть входной, скрытый и выходной слой. Скрытых слоев может быть очень много.\n",
        "\n",
        "Каждая связь описывается весом. Переход от одного слоя к другому происходит через умножение матриц и применение функции активации к результату.\n",
        "\n",
        "Если мы хотим получить прогноз по вектору значений, то мы последовательно проводим вектор через все слои и на выходе получаем нужное значение.\n",
        "\n",
        "Процесс подбора параметров - обучение нейросети.\n",
        "\n",
        "Для обучения сети обычно применяют метод обратного распространения ошибки. Основная идея в том, что мы движемся от последнего слоя к первому и изменяем веса каждого слоя так, чтобы общая ошибка уменьшилась.\n",
        "\n",
        "## Функции активации\n",
        "\n",
        "Обычно используют следующие функции активации:\n",
        "\n",
        "- сигмоидальную (как в логистической регрессии)\n",
        "- гиперболический тангенс\n",
        "- ReLU\n",
        "- линейная функция\n",
        "- пороговая функция"
      ]
    },
    {
      "cell_type": "markdown",
      "metadata": {
        "id": "NQtgfSHY4Bjq"
      },
      "source": [
        "## Как проходит обучение\n",
        "\n",
        "Допустим, у нас было 10к фотографий.\n",
        "\n",
        "Данные делят на тренировочную и тестовую выборку. Для обучения используют тренировочную выборку, а тестовую выборку откладывают. Мы взяли для обучения 8к фотографий и отложили оставшиеся 2к.\n",
        "\n",
        "Тренировочную выборку делят на батчи (например, по 10 записей) и для каждого батча запускают алгоритм оптимизации (например, SGD). Таким образом, мы разбиваем данные на 800 кусочков и столько раз прогоняем SGD. Это называется эпохой обучения. Чтобы посчитать ошибку используют лосс-функцию. Для задач классификации обычно используют [кросс-энтропию](https://ru.wikipedia.org/wiki/%D0%9F%D0%B5%D1%80%D0%B5%D0%BA%D1%80%D1%91%D1%81%D1%82%D0%BD%D0%B0%D1%8F_%D1%8D%D0%BD%D1%82%D1%80%D0%BE%D0%BF%D0%B8%D1%8F).\n",
        "\n",
        "Затем мы можем по-другому разбить на батчи и запустить новую эпоху обучения.\n",
        "\n",
        "Изменения весов, полученные от разных батчей, можно считать параллельно, поэтому обучение на GPU проходит гораздо быстрее, чем обучение на CPU."
      ]
    },
    {
      "cell_type": "markdown",
      "metadata": {
        "id": "fx7m3Z7sDhSk"
      },
      "source": [
        "Прочитаем данные, разобьем на треин и тест, построим модель"
      ]
    },
    {
      "cell_type": "code",
      "metadata": {
        "colab": {
          "base_uri": "https://localhost:8080/",
          "height": 253
        },
        "id": "Erb_d-AiJz5G",
        "outputId": "e038c614-95bf-46ee-a73d-220a49f257ba"
      },
      "source": [
        "df = pd.read_csv('sample_data/mnist_train_small.csv', header=None)\n",
        "df.head()"
      ],
      "execution_count": null,
      "outputs": [
        {
          "output_type": "execute_result",
          "data": {
            "text/html": [
              "<div>\n",
              "<style scoped>\n",
              "    .dataframe tbody tr th:only-of-type {\n",
              "        vertical-align: middle;\n",
              "    }\n",
              "\n",
              "    .dataframe tbody tr th {\n",
              "        vertical-align: top;\n",
              "    }\n",
              "\n",
              "    .dataframe thead th {\n",
              "        text-align: right;\n",
              "    }\n",
              "</style>\n",
              "<table border=\"1\" class=\"dataframe\">\n",
              "  <thead>\n",
              "    <tr style=\"text-align: right;\">\n",
              "      <th></th>\n",
              "      <th>0</th>\n",
              "      <th>1</th>\n",
              "      <th>2</th>\n",
              "      <th>3</th>\n",
              "      <th>4</th>\n",
              "      <th>5</th>\n",
              "      <th>6</th>\n",
              "      <th>7</th>\n",
              "      <th>8</th>\n",
              "      <th>9</th>\n",
              "      <th>10</th>\n",
              "      <th>11</th>\n",
              "      <th>12</th>\n",
              "      <th>13</th>\n",
              "      <th>14</th>\n",
              "      <th>15</th>\n",
              "      <th>16</th>\n",
              "      <th>17</th>\n",
              "      <th>18</th>\n",
              "      <th>19</th>\n",
              "      <th>20</th>\n",
              "      <th>21</th>\n",
              "      <th>22</th>\n",
              "      <th>23</th>\n",
              "      <th>24</th>\n",
              "      <th>25</th>\n",
              "      <th>26</th>\n",
              "      <th>27</th>\n",
              "      <th>28</th>\n",
              "      <th>29</th>\n",
              "      <th>30</th>\n",
              "      <th>31</th>\n",
              "      <th>32</th>\n",
              "      <th>33</th>\n",
              "      <th>34</th>\n",
              "      <th>35</th>\n",
              "      <th>36</th>\n",
              "      <th>37</th>\n",
              "      <th>38</th>\n",
              "      <th>39</th>\n",
              "      <th>...</th>\n",
              "      <th>745</th>\n",
              "      <th>746</th>\n",
              "      <th>747</th>\n",
              "      <th>748</th>\n",
              "      <th>749</th>\n",
              "      <th>750</th>\n",
              "      <th>751</th>\n",
              "      <th>752</th>\n",
              "      <th>753</th>\n",
              "      <th>754</th>\n",
              "      <th>755</th>\n",
              "      <th>756</th>\n",
              "      <th>757</th>\n",
              "      <th>758</th>\n",
              "      <th>759</th>\n",
              "      <th>760</th>\n",
              "      <th>761</th>\n",
              "      <th>762</th>\n",
              "      <th>763</th>\n",
              "      <th>764</th>\n",
              "      <th>765</th>\n",
              "      <th>766</th>\n",
              "      <th>767</th>\n",
              "      <th>768</th>\n",
              "      <th>769</th>\n",
              "      <th>770</th>\n",
              "      <th>771</th>\n",
              "      <th>772</th>\n",
              "      <th>773</th>\n",
              "      <th>774</th>\n",
              "      <th>775</th>\n",
              "      <th>776</th>\n",
              "      <th>777</th>\n",
              "      <th>778</th>\n",
              "      <th>779</th>\n",
              "      <th>780</th>\n",
              "      <th>781</th>\n",
              "      <th>782</th>\n",
              "      <th>783</th>\n",
              "      <th>784</th>\n",
              "    </tr>\n",
              "  </thead>\n",
              "  <tbody>\n",
              "    <tr>\n",
              "      <th>0</th>\n",
              "      <td>6</td>\n",
              "      <td>0</td>\n",
              "      <td>0</td>\n",
              "      <td>0</td>\n",
              "      <td>0</td>\n",
              "      <td>0</td>\n",
              "      <td>0</td>\n",
              "      <td>0</td>\n",
              "      <td>0</td>\n",
              "      <td>0</td>\n",
              "      <td>0</td>\n",
              "      <td>0</td>\n",
              "      <td>0</td>\n",
              "      <td>0</td>\n",
              "      <td>0</td>\n",
              "      <td>0</td>\n",
              "      <td>0</td>\n",
              "      <td>0</td>\n",
              "      <td>0</td>\n",
              "      <td>0</td>\n",
              "      <td>0</td>\n",
              "      <td>0</td>\n",
              "      <td>0</td>\n",
              "      <td>0</td>\n",
              "      <td>0</td>\n",
              "      <td>0</td>\n",
              "      <td>0</td>\n",
              "      <td>0</td>\n",
              "      <td>0</td>\n",
              "      <td>0</td>\n",
              "      <td>0</td>\n",
              "      <td>0</td>\n",
              "      <td>0</td>\n",
              "      <td>0</td>\n",
              "      <td>0</td>\n",
              "      <td>0</td>\n",
              "      <td>0</td>\n",
              "      <td>0</td>\n",
              "      <td>0</td>\n",
              "      <td>0</td>\n",
              "      <td>...</td>\n",
              "      <td>0</td>\n",
              "      <td>0</td>\n",
              "      <td>0</td>\n",
              "      <td>0</td>\n",
              "      <td>0</td>\n",
              "      <td>0</td>\n",
              "      <td>0</td>\n",
              "      <td>0</td>\n",
              "      <td>0</td>\n",
              "      <td>0</td>\n",
              "      <td>0</td>\n",
              "      <td>0</td>\n",
              "      <td>0</td>\n",
              "      <td>0</td>\n",
              "      <td>0</td>\n",
              "      <td>0</td>\n",
              "      <td>0</td>\n",
              "      <td>0</td>\n",
              "      <td>0</td>\n",
              "      <td>0</td>\n",
              "      <td>0</td>\n",
              "      <td>0</td>\n",
              "      <td>0</td>\n",
              "      <td>0</td>\n",
              "      <td>0</td>\n",
              "      <td>0</td>\n",
              "      <td>0</td>\n",
              "      <td>0</td>\n",
              "      <td>0</td>\n",
              "      <td>0</td>\n",
              "      <td>0</td>\n",
              "      <td>0</td>\n",
              "      <td>0</td>\n",
              "      <td>0</td>\n",
              "      <td>0</td>\n",
              "      <td>0</td>\n",
              "      <td>0</td>\n",
              "      <td>0</td>\n",
              "      <td>0</td>\n",
              "      <td>0</td>\n",
              "    </tr>\n",
              "    <tr>\n",
              "      <th>1</th>\n",
              "      <td>5</td>\n",
              "      <td>0</td>\n",
              "      <td>0</td>\n",
              "      <td>0</td>\n",
              "      <td>0</td>\n",
              "      <td>0</td>\n",
              "      <td>0</td>\n",
              "      <td>0</td>\n",
              "      <td>0</td>\n",
              "      <td>0</td>\n",
              "      <td>0</td>\n",
              "      <td>0</td>\n",
              "      <td>0</td>\n",
              "      <td>0</td>\n",
              "      <td>0</td>\n",
              "      <td>0</td>\n",
              "      <td>0</td>\n",
              "      <td>0</td>\n",
              "      <td>0</td>\n",
              "      <td>0</td>\n",
              "      <td>0</td>\n",
              "      <td>0</td>\n",
              "      <td>0</td>\n",
              "      <td>0</td>\n",
              "      <td>0</td>\n",
              "      <td>0</td>\n",
              "      <td>0</td>\n",
              "      <td>0</td>\n",
              "      <td>0</td>\n",
              "      <td>0</td>\n",
              "      <td>0</td>\n",
              "      <td>0</td>\n",
              "      <td>0</td>\n",
              "      <td>0</td>\n",
              "      <td>0</td>\n",
              "      <td>0</td>\n",
              "      <td>0</td>\n",
              "      <td>0</td>\n",
              "      <td>0</td>\n",
              "      <td>0</td>\n",
              "      <td>...</td>\n",
              "      <td>0</td>\n",
              "      <td>0</td>\n",
              "      <td>0</td>\n",
              "      <td>0</td>\n",
              "      <td>0</td>\n",
              "      <td>0</td>\n",
              "      <td>0</td>\n",
              "      <td>0</td>\n",
              "      <td>0</td>\n",
              "      <td>0</td>\n",
              "      <td>0</td>\n",
              "      <td>0</td>\n",
              "      <td>0</td>\n",
              "      <td>0</td>\n",
              "      <td>0</td>\n",
              "      <td>0</td>\n",
              "      <td>0</td>\n",
              "      <td>0</td>\n",
              "      <td>0</td>\n",
              "      <td>0</td>\n",
              "      <td>0</td>\n",
              "      <td>0</td>\n",
              "      <td>0</td>\n",
              "      <td>0</td>\n",
              "      <td>0</td>\n",
              "      <td>0</td>\n",
              "      <td>0</td>\n",
              "      <td>0</td>\n",
              "      <td>0</td>\n",
              "      <td>0</td>\n",
              "      <td>0</td>\n",
              "      <td>0</td>\n",
              "      <td>0</td>\n",
              "      <td>0</td>\n",
              "      <td>0</td>\n",
              "      <td>0</td>\n",
              "      <td>0</td>\n",
              "      <td>0</td>\n",
              "      <td>0</td>\n",
              "      <td>0</td>\n",
              "    </tr>\n",
              "    <tr>\n",
              "      <th>2</th>\n",
              "      <td>7</td>\n",
              "      <td>0</td>\n",
              "      <td>0</td>\n",
              "      <td>0</td>\n",
              "      <td>0</td>\n",
              "      <td>0</td>\n",
              "      <td>0</td>\n",
              "      <td>0</td>\n",
              "      <td>0</td>\n",
              "      <td>0</td>\n",
              "      <td>0</td>\n",
              "      <td>0</td>\n",
              "      <td>0</td>\n",
              "      <td>0</td>\n",
              "      <td>0</td>\n",
              "      <td>0</td>\n",
              "      <td>0</td>\n",
              "      <td>0</td>\n",
              "      <td>0</td>\n",
              "      <td>0</td>\n",
              "      <td>0</td>\n",
              "      <td>0</td>\n",
              "      <td>0</td>\n",
              "      <td>0</td>\n",
              "      <td>0</td>\n",
              "      <td>0</td>\n",
              "      <td>0</td>\n",
              "      <td>0</td>\n",
              "      <td>0</td>\n",
              "      <td>0</td>\n",
              "      <td>0</td>\n",
              "      <td>0</td>\n",
              "      <td>0</td>\n",
              "      <td>0</td>\n",
              "      <td>0</td>\n",
              "      <td>0</td>\n",
              "      <td>0</td>\n",
              "      <td>0</td>\n",
              "      <td>0</td>\n",
              "      <td>0</td>\n",
              "      <td>...</td>\n",
              "      <td>0</td>\n",
              "      <td>0</td>\n",
              "      <td>0</td>\n",
              "      <td>0</td>\n",
              "      <td>0</td>\n",
              "      <td>0</td>\n",
              "      <td>0</td>\n",
              "      <td>0</td>\n",
              "      <td>0</td>\n",
              "      <td>0</td>\n",
              "      <td>0</td>\n",
              "      <td>0</td>\n",
              "      <td>0</td>\n",
              "      <td>0</td>\n",
              "      <td>0</td>\n",
              "      <td>0</td>\n",
              "      <td>0</td>\n",
              "      <td>0</td>\n",
              "      <td>0</td>\n",
              "      <td>0</td>\n",
              "      <td>0</td>\n",
              "      <td>0</td>\n",
              "      <td>0</td>\n",
              "      <td>0</td>\n",
              "      <td>0</td>\n",
              "      <td>0</td>\n",
              "      <td>0</td>\n",
              "      <td>0</td>\n",
              "      <td>0</td>\n",
              "      <td>0</td>\n",
              "      <td>0</td>\n",
              "      <td>0</td>\n",
              "      <td>0</td>\n",
              "      <td>0</td>\n",
              "      <td>0</td>\n",
              "      <td>0</td>\n",
              "      <td>0</td>\n",
              "      <td>0</td>\n",
              "      <td>0</td>\n",
              "      <td>0</td>\n",
              "    </tr>\n",
              "    <tr>\n",
              "      <th>3</th>\n",
              "      <td>9</td>\n",
              "      <td>0</td>\n",
              "      <td>0</td>\n",
              "      <td>0</td>\n",
              "      <td>0</td>\n",
              "      <td>0</td>\n",
              "      <td>0</td>\n",
              "      <td>0</td>\n",
              "      <td>0</td>\n",
              "      <td>0</td>\n",
              "      <td>0</td>\n",
              "      <td>0</td>\n",
              "      <td>0</td>\n",
              "      <td>0</td>\n",
              "      <td>0</td>\n",
              "      <td>0</td>\n",
              "      <td>0</td>\n",
              "      <td>0</td>\n",
              "      <td>0</td>\n",
              "      <td>0</td>\n",
              "      <td>0</td>\n",
              "      <td>0</td>\n",
              "      <td>0</td>\n",
              "      <td>0</td>\n",
              "      <td>0</td>\n",
              "      <td>0</td>\n",
              "      <td>0</td>\n",
              "      <td>0</td>\n",
              "      <td>0</td>\n",
              "      <td>0</td>\n",
              "      <td>0</td>\n",
              "      <td>0</td>\n",
              "      <td>0</td>\n",
              "      <td>0</td>\n",
              "      <td>0</td>\n",
              "      <td>0</td>\n",
              "      <td>0</td>\n",
              "      <td>0</td>\n",
              "      <td>0</td>\n",
              "      <td>0</td>\n",
              "      <td>...</td>\n",
              "      <td>15</td>\n",
              "      <td>0</td>\n",
              "      <td>0</td>\n",
              "      <td>0</td>\n",
              "      <td>0</td>\n",
              "      <td>0</td>\n",
              "      <td>0</td>\n",
              "      <td>0</td>\n",
              "      <td>0</td>\n",
              "      <td>0</td>\n",
              "      <td>0</td>\n",
              "      <td>0</td>\n",
              "      <td>0</td>\n",
              "      <td>0</td>\n",
              "      <td>0</td>\n",
              "      <td>0</td>\n",
              "      <td>0</td>\n",
              "      <td>0</td>\n",
              "      <td>0</td>\n",
              "      <td>0</td>\n",
              "      <td>0</td>\n",
              "      <td>0</td>\n",
              "      <td>0</td>\n",
              "      <td>0</td>\n",
              "      <td>0</td>\n",
              "      <td>0</td>\n",
              "      <td>0</td>\n",
              "      <td>0</td>\n",
              "      <td>0</td>\n",
              "      <td>0</td>\n",
              "      <td>0</td>\n",
              "      <td>0</td>\n",
              "      <td>0</td>\n",
              "      <td>0</td>\n",
              "      <td>0</td>\n",
              "      <td>0</td>\n",
              "      <td>0</td>\n",
              "      <td>0</td>\n",
              "      <td>0</td>\n",
              "      <td>0</td>\n",
              "    </tr>\n",
              "    <tr>\n",
              "      <th>4</th>\n",
              "      <td>5</td>\n",
              "      <td>0</td>\n",
              "      <td>0</td>\n",
              "      <td>0</td>\n",
              "      <td>0</td>\n",
              "      <td>0</td>\n",
              "      <td>0</td>\n",
              "      <td>0</td>\n",
              "      <td>0</td>\n",
              "      <td>0</td>\n",
              "      <td>0</td>\n",
              "      <td>0</td>\n",
              "      <td>0</td>\n",
              "      <td>0</td>\n",
              "      <td>0</td>\n",
              "      <td>0</td>\n",
              "      <td>0</td>\n",
              "      <td>0</td>\n",
              "      <td>0</td>\n",
              "      <td>0</td>\n",
              "      <td>0</td>\n",
              "      <td>0</td>\n",
              "      <td>0</td>\n",
              "      <td>0</td>\n",
              "      <td>0</td>\n",
              "      <td>0</td>\n",
              "      <td>0</td>\n",
              "      <td>0</td>\n",
              "      <td>0</td>\n",
              "      <td>0</td>\n",
              "      <td>0</td>\n",
              "      <td>0</td>\n",
              "      <td>0</td>\n",
              "      <td>0</td>\n",
              "      <td>0</td>\n",
              "      <td>0</td>\n",
              "      <td>0</td>\n",
              "      <td>0</td>\n",
              "      <td>0</td>\n",
              "      <td>0</td>\n",
              "      <td>...</td>\n",
              "      <td>0</td>\n",
              "      <td>0</td>\n",
              "      <td>0</td>\n",
              "      <td>0</td>\n",
              "      <td>0</td>\n",
              "      <td>0</td>\n",
              "      <td>0</td>\n",
              "      <td>0</td>\n",
              "      <td>0</td>\n",
              "      <td>0</td>\n",
              "      <td>0</td>\n",
              "      <td>0</td>\n",
              "      <td>0</td>\n",
              "      <td>0</td>\n",
              "      <td>0</td>\n",
              "      <td>0</td>\n",
              "      <td>0</td>\n",
              "      <td>0</td>\n",
              "      <td>0</td>\n",
              "      <td>0</td>\n",
              "      <td>0</td>\n",
              "      <td>0</td>\n",
              "      <td>0</td>\n",
              "      <td>0</td>\n",
              "      <td>0</td>\n",
              "      <td>0</td>\n",
              "      <td>0</td>\n",
              "      <td>0</td>\n",
              "      <td>0</td>\n",
              "      <td>0</td>\n",
              "      <td>0</td>\n",
              "      <td>0</td>\n",
              "      <td>0</td>\n",
              "      <td>0</td>\n",
              "      <td>0</td>\n",
              "      <td>0</td>\n",
              "      <td>0</td>\n",
              "      <td>0</td>\n",
              "      <td>0</td>\n",
              "      <td>0</td>\n",
              "    </tr>\n",
              "  </tbody>\n",
              "</table>\n",
              "<p>5 rows × 785 columns</p>\n",
              "</div>"
            ],
            "text/plain": [
              "   0    1    2    3    4    5    6    ...  778  779  780  781  782  783  784\n",
              "0    6    0    0    0    0    0    0  ...    0    0    0    0    0    0    0\n",
              "1    5    0    0    0    0    0    0  ...    0    0    0    0    0    0    0\n",
              "2    7    0    0    0    0    0    0  ...    0    0    0    0    0    0    0\n",
              "3    9    0    0    0    0    0    0  ...    0    0    0    0    0    0    0\n",
              "4    5    0    0    0    0    0    0  ...    0    0    0    0    0    0    0\n",
              "\n",
              "[5 rows x 785 columns]"
            ]
          },
          "metadata": {},
          "execution_count": 2
        }
      ]
    },
    {
      "cell_type": "code",
      "metadata": {
        "id": "pfCFDamgKdz1"
      },
      "source": [
        "X = df.iloc[:, 1:]\n",
        "X = X / X.max().max()\n",
        "y = to_categorical(df.iloc[:, 0], num_classes=10)"
      ],
      "execution_count": null,
      "outputs": []
    },
    {
      "cell_type": "code",
      "metadata": {
        "id": "6c4M9r5oBZv6"
      },
      "source": [
        "x_train, x_test, y_train, y_test = train_test_split(X, y)"
      ],
      "execution_count": null,
      "outputs": []
    },
    {
      "cell_type": "code",
      "metadata": {
        "colab": {
          "base_uri": "https://localhost:8080/",
          "height": 282
        },
        "id": "3hUUVJ1bJ53E",
        "outputId": "b254b3d5-c827-4181-d5b9-aab1630d9504"
      },
      "source": [
        "plt.imshow(X.iloc[0].values.reshape(28, 28))"
      ],
      "execution_count": null,
      "outputs": [
        {
          "output_type": "execute_result",
          "data": {
            "text/plain": [
              "<matplotlib.image.AxesImage at 0x7fd2d61ae990>"
            ]
          },
          "metadata": {},
          "execution_count": 5
        },
        {
          "output_type": "display_data",
          "data": {
            "image/png": "[encoded data removed]",
            "text/plain": [
              "<Figure size 432x288 with 1 Axes>"
            ]
          },
          "metadata": {
            "needs_background": "light"
          }
        }
      ]
    },
    {
      "cell_type": "markdown",
      "metadata": {
        "id": "_PwO2XQjDlkB"
      },
      "source": [
        "Построим многослойный перцептрон. Оптимизировать будем при помощи SGD, в качестве лосс-функции будем использовать кроссэнтропию, также будем считать accuracy"
      ]
    },
    {
      "cell_type": "code",
      "metadata": {
        "id": "YLISc8hNKnnb"
      },
      "source": [
        "model = Sequential(\n",
        "    [\n",
        "     Dense(16, input_shape=(X.shape[1],), activation='sigmoid'),\n",
        "     Dense(16, activation='relu'),\n",
        "     Dense(10, activation='softmax')\n",
        "    ]\n",
        ")\n",
        "model.compile(optimizer=SGD(clipnorm=1), loss=categorical_crossentropy, metrics=[categorical_accuracy])\n"
      ],
      "execution_count": null,
      "outputs": []
    },
    {
      "cell_type": "code",
      "metadata": {
        "colab": {
          "base_uri": "https://localhost:8080/"
        },
        "id": "JTJBteW-9pfp",
        "outputId": "bdf45b8c-ba45-4947-d67f-cffb0f42d76e"
      },
      "source": [
        "model.summary()"
      ],
      "execution_count": null,
      "outputs": [
        {
          "output_type": "stream",
          "name": "stdout",
          "text": [
            "Model: \"sequential\"\n",
            "_________________________________________________________________\n",
            " Layer (type)                Output Shape              Param #   \n",
            "=================================================================\n",
            " dense (Dense)               (None, 16)                12560     \n",
            "                                                                 \n",
            " dense_1 (Dense)             (None, 16)                272       \n",
            "                                                                 \n",
            " dense_2 (Dense)             (None, 10)                170       \n",
            "                                                                 \n",
            "=================================================================\n",
            "Total params: 13,002\n",
            "Trainable params: 13,002\n",
            "Non-trainable params: 0\n",
            "_________________________________________________________________\n"
          ]
        }
      ]
    },
    {
      "cell_type": "markdown",
      "metadata": {
        "id": "7qzqpWwh3k8U"
      },
      "source": [
        "## Гиперпараметры сети\n",
        "\n",
        "- архитектура сети\n",
        "- параметры оптимизатора (learning rate и др.)\n",
        "- регуляризация\n",
        "- размер батча\n",
        "- количество эпох"
      ]
    },
    {
      "cell_type": "code",
      "metadata": {
        "colab": {
          "base_uri": "https://localhost:8080/"
        },
        "id": "WeYgQvUd8Ibi",
        "outputId": "eb1fd300-7b52-4742-dc94-0c6363e51c08"
      },
      "source": [
        "history = model.fit(x_train, y_train, batch_size=10, epochs=10, validation_split=0.1)"
      ],
      "execution_count": null,
      "outputs": [
        {
          "output_type": "stream",
          "name": "stdout",
          "text": [
            "Epoch 1/10\n",
            "1350/1350 [==============================] - 3s 2ms/step - loss: 1.9454 - categorical_accuracy: 0.4141 - val_loss: 1.5128 - val_categorical_accuracy: 0.6020\n",
            "Epoch 2/10\n",
            "1350/1350 [==============================] - 2s 2ms/step - loss: 1.0877 - categorical_accuracy: 0.7315 - val_loss: 0.8095 - val_categorical_accuracy: 0.7993\n",
            "Epoch 3/10\n",
            "1350/1350 [==============================] - 2s 2ms/step - loss: 0.6513 - categorical_accuracy: 0.8319 - val_loss: 0.5906 - val_categorical_accuracy: 0.8353\n",
            "Epoch 4/10\n",
            "1350/1350 [==============================] - 2s 2ms/step - loss: 0.5180 - categorical_accuracy: 0.8568 - val_loss: 0.5211 - val_categorical_accuracy: 0.8453\n",
            "Epoch 5/10\n",
            "1350/1350 [==============================] - 2s 2ms/step - loss: 0.4609 - categorical_accuracy: 0.8683 - val_loss: 0.4835 - val_categorical_accuracy: 0.8593\n",
            "Epoch 6/10\n",
            "1350/1350 [==============================] - 2s 2ms/step - loss: 0.4243 - categorical_accuracy: 0.8790 - val_loss: 0.4546 - val_categorical_accuracy: 0.8620\n",
            "Epoch 7/10\n",
            "1350/1350 [==============================] - 2s 2ms/step - loss: 0.3974 - categorical_accuracy: 0.8864 - val_loss: 0.4370 - val_categorical_accuracy: 0.8720\n",
            "Epoch 8/10\n",
            "1350/1350 [==============================] - 2s 2ms/step - loss: 0.3762 - categorical_accuracy: 0.8917 - val_loss: 0.4347 - val_categorical_accuracy: 0.8693\n",
            "Epoch 9/10\n",
            "1350/1350 [==============================] - 2s 2ms/step - loss: 0.3584 - categorical_accuracy: 0.8974 - val_loss: 0.4044 - val_categorical_accuracy: 0.8813\n",
            "Epoch 10/10\n",
            "1350/1350 [==============================] - 2s 2ms/step - loss: 0.3423 - categorical_accuracy: 0.9016 - val_loss: 0.3887 - val_categorical_accuracy: 0.8893\n"
          ]
        }
      ]
    },
    {
      "cell_type": "code",
      "metadata": {
        "colab": {
          "base_uri": "https://localhost:8080/"
        },
        "id": "EJl26m6NG6Tp",
        "outputId": "9414e689-2797-49c3-bfa7-15c407b30ac0"
      },
      "source": [
        "history.history.keys()"
      ],
      "execution_count": null,
      "outputs": [
        {
          "output_type": "execute_result",
          "data": {
            "text/plain": [
              "dict_keys(['loss', 'categorical_accuracy', 'val_loss', 'val_categorical_accuracy'])"
            ]
          },
          "metadata": {},
          "execution_count": 9
        }
      ]
    },
    {
      "cell_type": "code",
      "metadata": {
        "colab": {
          "base_uri": "https://localhost:8080/",
          "height": 283
        },
        "id": "PJ1Qr4WCGqDX",
        "outputId": "bbae814c-df48-4687-e60d-e028cd2446da"
      },
      "source": [
        "plt.plot(history.history['loss'])\n",
        "plt.plot(history.history['val_loss'])\n",
        "plt.legend(['loss', 'val_loss'])"
      ],
      "execution_count": null,
      "outputs": [
        {
          "output_type": "execute_result",
          "data": {
            "text/plain": [
              "<matplotlib.legend.Legend at 0x7fd2cec50e10>"
            ]
          },
          "metadata": {},
          "execution_count": 11
        },
        {
          "output_type": "display_data",
          "data": {
            "image/png": "[encoded data removed]",
            "text/plain": [
              "<Figure size 432x288 with 1 Axes>"
            ]
          },
          "metadata": {
            "needs_background": "light"
          }
        }
      ]
    },
    {
      "cell_type": "code",
      "metadata": {
        "colab": {
          "base_uri": "https://localhost:8080/"
        },
        "id": "lzQ_dNDIAZHx",
        "outputId": "88f7277f-4cc3-4a8c-8743-c26b2681c643"
      },
      "source": [
        "model.evaluate(x_test, y_test)"
      ],
      "execution_count": null,
      "outputs": [
        {
          "output_type": "stream",
          "name": "stdout",
          "text": [
            "157/157 [==============================] - 0s 2ms/step - loss: 0.3732 - categorical_accuracy: 0.8912\n"
          ]
        },
        {
          "output_type": "execute_result",
          "data": {
            "text/plain": [
              "[0.37324005365371704, 0.8912000060081482]"
            ]
          },
          "metadata": {},
          "execution_count": 13
        }
      ]
    },
    {
      "cell_type": "code",
      "metadata": {
        "colab": {
          "base_uri": "https://localhost:8080/"
        },
        "id": "Sf0M9BSfHRbO",
        "outputId": "ffa2aeb4-7092-4f95-b691-58be983bb2da"
      },
      "source": [
        "y_pred = model.predict(x_test)\n",
        "from sklearn.metrics import confusion_matrix\n",
        "confusion_matrix(y_test.argmax(axis=1), y_pred.argmax(axis=1))"
      ],
      "execution_count": null,
      "outputs": [
        {
          "output_type": "execute_result",
          "data": {
            "text/plain": [
              "array([[464,   0,   5,   4,   0,   9,   6,   0,   3,   0],\n",
              "       [  0, 539,   2,   3,   1,   0,   1,   1,   9,   1],\n",
              "       [ 10,   9, 461,  14,   4,   4,  12,   6,  11,   1],\n",
              "       [  2,   3,  14, 450,   0,  17,   2,   6,  15,   2],\n",
              "       [  2,   2,   4,   0, 394,   0,  13,   0,   5,  56],\n",
              "       [  5,   4,   7,  25,   6, 351,  12,   2,  24,   7],\n",
              "       [  3,   1,  11,   0,   4,   6, 453,   0,   3,   0],\n",
              "       [  1,   2,  12,   3,   5,   0,   0, 487,   0,  18],\n",
              "       [  1,  18,   8,  12,   4,  17,   0,   1, 415,   8],\n",
              "       [  3,   3,   4,   8,  18,   3,   0,  11,   5, 442]])"
            ]
          },
          "metadata": {},
          "execution_count": 14
        }
      ]
    },
    {
      "cell_type": "markdown",
      "metadata": {
        "id": "KCjbRaiyD1lw"
      },
      "source": [
        "Как оценим качество такой модели? Какое качество давала обычная логистическая регрессия?"
      ]
    },
    {
      "cell_type": "markdown",
      "metadata": {
        "id": "BxcUooixHpd8"
      },
      "source": [
        "## Задача\n",
        "\n",
        "Добавить больше нейронов к существующим слоям, а также добавить новый слой в нейросеть. Измерить качество."
      ]
    },
    {
      "cell_type": "code",
      "metadata": {
        "id": "Xe_QrCaGIMBv"
      },
      "source": [
        "# Ваш код здесь\n"
      ],
      "execution_count": null,
      "outputs": []
    },
    {
      "cell_type": "markdown",
      "metadata": {
        "id": "2_KIrCYlIXxL"
      },
      "source": [
        "## Задача\n",
        "\n",
        "Попробовать оптимизатор Adam вместо SGD, сравнить качество (не забываем передавать параметр `clipnorm=1`)"
      ]
    },
    {
      "cell_type": "code",
      "metadata": {
        "id": "t9iSZwRzIXKE"
      },
      "source": [
        "from tensorflow.keras.optimizers import Adam\n",
        "# Ваш код здесь\n"
      ],
      "execution_count": null,
      "outputs": []
    },
    {
      "cell_type": "markdown",
      "metadata": {
        "id": "O1xIUU46KjHK"
      },
      "source": [
        "## Уменьшение learning rate\n",
        "\n",
        "[Документация по ExponentialDecay](https://keras.io/api/optimizers/learning_rate_schedules/exponential_decay/)"
      ]
    },
    {
      "cell_type": "code",
      "metadata": {
        "id": "F_ziwlnUJa9F"
      },
      "source": [
        "from tensorflow.keras.optimizers.schedules import ExponentialDecay\n",
        "\n",
        "initial_learning_rate = 0.1\n",
        "lr_schedule = ExponentialDecay(\n",
        "    initial_learning_rate,\n",
        "    decay_steps=100000,\n",
        "    decay_rate=0.96,\n",
        "    staircase=True\n",
        ")\n",
        "\n",
        "model = Sequential(\n",
        "    [\n",
        "     Dense(16, input_shape=(X.shape[1],), activation='sigmoid'),\n",
        "     Dense(16, activation='relu'),\n",
        "     Dense(10, activation='softmax')\n",
        "    ]\n",
        ")\n",
        "model.compile(optimizer=SGD(clipnorm=1, learning_rate=lr_schedule), loss=categorical_crossentropy, metrics=[categorical_accuracy])"
      ],
      "execution_count": null,
      "outputs": []
    },
    {
      "cell_type": "code",
      "metadata": {
        "colab": {
          "base_uri": "https://localhost:8080/"
        },
        "id": "YL7-uXpaKXKt",
        "outputId": "c2b6cd3c-fa61-4e37-93ed-2aecc55bb47f"
      },
      "source": [
        "history = model.fit(x_train, y_train, batch_size=10, epochs=3)"
      ],
      "execution_count": null,
      "outputs": [
        {
          "output_type": "stream",
          "name": "stdout",
          "text": [
            "Epoch 1/3\n",
            "1500/1500 [==============================] - 3s 2ms/step - loss: 0.7112 - categorical_accuracy: 0.7781\n",
            "Epoch 2/3\n",
            "1500/1500 [==============================] - 2s 1ms/step - loss: 0.3461 - categorical_accuracy: 0.8977\n",
            "Epoch 3/3\n",
            "1500/1500 [==============================] - 2s 2ms/step - loss: 0.2858 - categorical_accuracy: 0.9169\n"
          ]
        }
      ]
    },
    {
      "cell_type": "markdown",
      "metadata": {
        "id": "MGaEusuvKrUl"
      },
      "source": [
        "## Задача\n",
        "\n",
        "Использовать ExponentialDecay для оптимизатора Adam"
      ]
    },
    {
      "cell_type": "code",
      "metadata": {
        "id": "gVzj8zZ7K-r9"
      },
      "source": [
        "## Ваш код здесь"
      ],
      "execution_count": null,
      "outputs": []
    },
    {
      "cell_type": "markdown",
      "metadata": {
        "id": "9Pi-2KzGpp-q"
      },
      "source": [
        "## Регуляризация\n",
        "\n",
        "Для того, чтобы избежать переобучения, мы можем использовать регуляризацию. Для линейных моделей мы использовали L1 и L2 регуляризацию. Для нейросетей обычно используют dropout слой.\n",
        "\n",
        "Интуиция, которая лежит за dropout-слоем состоит в том, что нам не хочется, чтобы модель обучалась по какому-то одному признаку, поэтому мы хотим периодически \"отключать\" какие-то связи в слое и смотреть как это влияет на прогноз модели.\n",
        "\n",
        "Dropout слой ровно это и делает. Мы можем задать вероятность отключения признака и нейросеть присвоит весу этого признака значение 0. Так как при обучении мы много раз проходим через нейросеть, то мы избежим переобучения.\n",
        "\n",
        "Dropout используется только при обучении, при получении прогноза никакие веса не обнуляются.\n",
        "\n",
        "При этом обучение будет идти быстрее, но сходиться будет медленнее (потребуется больше эпох, чтобы получить такой же результат)\n",
        "\n",
        "Чем больше параметров в слое, тем эффективнее будет dropout"
      ]
    },
    {
      "cell_type": "markdown",
      "metadata": {
        "id": "cYB4v2eft9cP"
      },
      "source": [
        "## Задача\n",
        "\n",
        "Применить Dropout к полученной выше нейросети к одному из слоев. Сравнить результат."
      ]
    },
    {
      "cell_type": "code",
      "metadata": {
        "id": "zOgmw8yBvV44"
      },
      "source": [
        "# Ваш код здесь"
      ],
      "execution_count": null,
      "outputs": []
    },
    {
      "cell_type": "markdown",
      "metadata": {
        "id": "T3UZC9-WLCFm"
      },
      "source": [
        "## Сверточные нейронные сети\n",
        "\n",
        "Обучая многослойный перцептрон можно аппроксимировать любую функцию, но для некоторых задач проще использовать другую архитектуру сети. Например, для задач с аудио и картинками хорошо подходит сверточная нейронная сеть (CNN).\n",
        "\n",
        "![pic](https://drive.google.com/uc?export=view&id=1CgvgrVTOdvsT4LzltnayZ0SxPuUyMEpJ)\n",
        "\n",
        "Сверточная нейронная сеть состоит, как правило, из двух слоев - свертка и пулинг.\n",
        "\n",
        "Свертка получается, когда по исходному изображению проходит скользящее окно в виде квадратной матрицы. На каждом шаге происходит покомпонентное умножение матриц (исходного изображения и ядра - квадратной матрицы). Дальше результат суммируется и записывается в новую матрицу. После чего вся новая матрица проходит через функцию активации (обычно relu).\n",
        "\n",
        "После свертки применяется пулинг. Матрица делится на квадратики (пулы), и в каждом квадратике выбирается наибольшее значение. В конце применяется функция активации.\n",
        "\n",
        "![pic](https://drive.google.com/uc?export=view&id=1esI1fEimHm7EPe-c7c82knkofwyDxflY)\n",
        "\n",
        "Во время обучения подбираются коэфициенты ядра. Как правило, на каждом слое обучают несколько фильтров."
      ]
    },
    {
      "cell_type": "code",
      "metadata": {
        "id": "NByGJdSfN1QV"
      },
      "source": [
        "import numpy as np\n",
        "from tensorflow import keras\n",
        "from tensorflow.keras import layers"
      ],
      "execution_count": null,
      "outputs": []
    },
    {
      "cell_type": "markdown",
      "metadata": {
        "id": "bcu2HOKYOOZz"
      },
      "source": [
        "Приводим изображения к размерности (28, 28, 1), потому что картинка черно-белая 28х28"
      ]
    },
    {
      "cell_type": "code",
      "metadata": {
        "colab": {
          "base_uri": "https://localhost:8080/"
        },
        "id": "BIzcFmXZI2Ze",
        "outputId": "6ac07577-606f-449e-9655-3093a41bd68c"
      },
      "source": [
        "X_images = X.values.reshape(-1, 28, 28, 1)\n",
        "x_train, x_test, y_train, y_test = train_test_split(X_images, y)\n",
        "x_train.shape"
      ],
      "execution_count": null,
      "outputs": [
        {
          "output_type": "execute_result",
          "data": {
            "text/plain": [
              "(15000, 28, 28, 1)"
            ]
          },
          "metadata": {},
          "execution_count": 16
        }
      ]
    },
    {
      "cell_type": "code",
      "metadata": {
        "id": "ul2uks0VNjpd"
      },
      "source": [
        "model = Sequential(\n",
        "    [\n",
        "        keras.Input(shape=(28, 28, 1)),\n",
        "        layers.Conv2D(32, kernel_size=(3, 3), activation=\"relu\"),\n",
        "        layers.MaxPooling2D(pool_size=(2, 2)),\n",
        "        layers.Conv2D(64, kernel_size=(3, 3), activation=\"relu\"),\n",
        "        layers.MaxPooling2D(pool_size=(2, 2)),\n",
        "        layers.Flatten(),\n",
        "        layers.Dropout(0.5),\n",
        "        layers.Dense(10, activation=\"softmax\"),\n",
        "    ]\n",
        ")\n",
        "\n",
        "batch_size = 128\n",
        "epochs = 5\n",
        "\n",
        "model.compile(loss=\"categorical_crossentropy\", optimizer=\"adam\", metrics=[\"accuracy\"])"
      ],
      "execution_count": null,
      "outputs": []
    },
    {
      "cell_type": "code",
      "metadata": {
        "colab": {
          "base_uri": "https://localhost:8080/"
        },
        "id": "o3x9GA_sOlIx",
        "outputId": "229aee0a-2a5e-4fab-934b-c4664913ff5b"
      },
      "source": [
        "history = model.fit(x_train, y_train, batch_size=batch_size, epochs=epochs, validation_split=0.1)"
      ],
      "execution_count": null,
      "outputs": [
        {
          "output_type": "stream",
          "name": "stdout",
          "text": [
            "Epoch 1/5\n",
            "106/106 [==============================] - 11s 96ms/step - loss: 0.8946 - accuracy: 0.7267 - val_loss: 0.2560 - val_accuracy: 0.9300\n",
            "Epoch 2/5\n",
            "106/106 [==============================] - 10s 93ms/step - loss: 0.2553 - accuracy: 0.9241 - val_loss: 0.1512 - val_accuracy: 0.9533\n",
            "Epoch 3/5\n",
            "106/106 [==============================] - 10s 93ms/step - loss: 0.1734 - accuracy: 0.9481 - val_loss: 0.1125 - val_accuracy: 0.9700\n",
            "Epoch 4/5\n",
            "106/106 [==============================] - 10s 93ms/step - loss: 0.1332 - accuracy: 0.9590 - val_loss: 0.0934 - val_accuracy: 0.9720\n",
            "Epoch 5/5\n",
            "106/106 [==============================] - 10s 93ms/step - loss: 0.1104 - accuracy: 0.9652 - val_loss: 0.0842 - val_accuracy: 0.9747\n"
          ]
        }
      ]
    },
    {
      "cell_type": "code",
      "metadata": {
        "colab": {
          "base_uri": "https://localhost:8080/",
          "height": 285
        },
        "id": "qKAJctrYO9um",
        "outputId": "5de1aec9-a057-44af-d89c-5ee65e2193f7"
      },
      "source": [
        "plt.plot(history.history['loss'])\n",
        "plt.plot(history.history['accuracy'])\n",
        "plt.legend(['loss', 'accuracy'])"
      ],
      "execution_count": null,
      "outputs": [
        {
          "output_type": "execute_result",
          "data": {
            "text/plain": [
              "<matplotlib.legend.Legend at 0x7fd2ce615a50>"
            ]
          },
          "metadata": {},
          "execution_count": 21
        },
        {
          "output_type": "display_data",
          "data": {
            "image/png": "[encoded data removed]",
            "text/plain": [
              "<Figure size 432x288 with 1 Axes>"
            ]
          },
          "metadata": {
            "needs_background": "light"
          }
        }
      ]
    },
    {
      "cell_type": "code",
      "metadata": {
        "colab": {
          "base_uri": "https://localhost:8080/"
        },
        "id": "D4RlaFuGPmfW",
        "outputId": "6c1166c3-1920-42a9-9374-0cf09476c690"
      },
      "source": [
        "model.evaluate(x_test, y_test)"
      ],
      "execution_count": null,
      "outputs": [
        {
          "output_type": "stream",
          "name": "stdout",
          "text": [
            "157/157 [==============================] - 1s 9ms/step - loss: 0.0923 - accuracy: 0.9720\n"
          ]
        },
        {
          "output_type": "execute_result",
          "data": {
            "text/plain": [
              "[0.09234489500522614, 0.972000002861023]"
            ]
          },
          "metadata": {},
          "execution_count": 22
        }
      ]
    },
    {
      "cell_type": "markdown",
      "metadata": {
        "id": "3sKy6t3RITmg"
      },
      "source": [
        "## Задача\n",
        "\n",
        "Взять данные с Kaggle по датасету [Fashion MNIST](https://www.kaggle.com/zalando-research/fashionmnist?select=fashion-mnist_train.csv).\n",
        "\n",
        "В датасете представлены картинки одежды, нужно построить классификатор, который определит, что находится на картинке.\n",
        "\n",
        "Обучить на этих данных сверточную нейронную сеть. Можно использовать архитектуру из примера выше, можно ее усложнить.\n",
        "\n",
        "Оценить качество модели."
      ]
    },
    {
      "cell_type": "code",
      "metadata": {
        "id": "EUI9cpoRJDYb"
      },
      "source": [
        ""
      ],
      "execution_count": null,
      "outputs": []
    },
    {
      "cell_type": "markdown",
      "metadata": {
        "id": "DUuGA0lGJEOJ"
      },
      "source": [
        "## Задача\n",
        "\n",
        "По этим же данным построить модель логистической регрессии. Сравнить результаты."
      ]
    },
    {
      "cell_type": "code",
      "metadata": {
        "id": "n73NQlXyKTwU"
      },
      "source": [
        ""
      ],
      "execution_count": null,
      "outputs": []
    },
    {
      "cell_type": "markdown",
      "metadata": {
        "id": "92FOaQnyI3DE"
      },
      "source": [
        "## Домашнее задание\n",
        "\n",
        "Будем работать с датасетом о рыбах https://www.kaggle.com/crowww/a-large-scale-fish-dataset\n",
        "\n",
        "## Easy\n",
        "\n",
        "В этой задаче возьмем любые два вида рыб и решим задачу бинарной классификации.\n",
        "\n",
        "Нужно прочитать данные, разбить на треин и тест, построить модель сверточной нейросети, проверить качество.\n",
        "\n",
        "## Normal\n",
        "\n",
        "Берем данные о всех рыбах и решаем ту же задачу.\n",
        "\n",
        "## Hard\n",
        "\n",
        "Добавим к модели из Normal аугментацию данных. \n",
        "\n",
        "Аугментация данных - это прием, при помощи которого мы можем искусственно увеличить количество данных, которые у нас имеются. Например, если речь идет о картинках, то мы можем проводить разные трансформации (поворачивать, разворачивать, сжимать, менять освещение) над картинками и использовать эти данные для обучения.\n",
        "\n",
        "В keras это делается при помощи `DataImageGenerator`. Прочитать подробнее можно [тут](https://machinelearningmastery.com/how-to-configure-image-data-augmentation-when-training-deep-learning-neural-networks/).\n",
        "\n"
      ]
    },
    {
      "cell_type": "markdown",
      "metadata": {
        "id": "IYnH81Llmr33"
      },
      "source": [
        "## Полезные ссылки\n",
        "\n",
        "- [Как сверточные сети видят мир](https://blog.keras.io/how-convolutional-neural-networks-see-the-world.html)\n",
        "- [Еще про сверточные сети](https://habr.com/ru/post/348000/)"
      ]
    },
    {
      "cell_type": "code",
      "metadata": {
        "id": "X-lYf-Y5mwgI"
      },
      "source": [
        ""
      ],
      "execution_count": null,
      "outputs": []
    }
  ]
}