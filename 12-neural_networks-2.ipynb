{
  "nbformat": 4,
  "nbformat_minor": 0,
  "metadata": {
    "colab": {
      "name": "12-neural-networks-2.ipynb",
      "provenance": [],
      "collapsed_sections": []
    },
    "kernelspec": {
      "name": "python3",
      "display_name": "Python 3"
    },
    "language_info": {
      "name": "python"
    }
  },
  "cells": [
    {
      "cell_type": "markdown",
      "metadata": {
        "id": "98PZ82ZkPkkw"
      },
      "source": [
        "# Нейронные сети \n",
        "\n",
        "Сегодня поговорим про рекурентные, генеративные нейросети, дообучение нейросетей и прогнозирование временных рядов при помощи нейросетей"
      ]
    },
    {
      "cell_type": "markdown",
      "metadata": {
        "id": "kM7-EyaXGyB3"
      },
      "source": [
        "## RNN\n",
        "\n",
        "Когда мы рассматриваем последовательности данных (временные ряды, слова в предложении, кадры в видео), нам хочется как-то учитывать связи между соседними объектами. Для этого нужно реализовать что-то, похожее на память. Для этого существует ячейка рекурентной нейросети.\n",
        "\n",
        "![](https://habrastorage.org/r/w1560/getpro/habr/upload_files/29b/c91/5f5/29bc915f5ac31f4fab7931a01d773655.png)\n",
        "\n",
        "RNN в теории хорошо улавливает как информацию, расположенную неподалеку, так и далеко.\n",
        "\n",
        "![](https://colah.github.io/posts/2015-08-Understanding-LSTMs/img/RNN-shorttermdepdencies.png)\n",
        "\n",
        "Но это только в теории. На практике мы сталкиваемся с проблемой затухания градиента и модель просто не может обучиться, когда итерацией слишком много.\n",
        "\n",
        "![](https://colah.github.io/posts/2015-08-Understanding-LSTMs/img/RNN-longtermdependencies.png)\n",
        "\n",
        "Тогда на помощь приходят другие похожие архитектуры - LSTM и GRU. Эти ячейки умеют выбирать какую информацию имеет смысл пропускать дальше, а какую нужно \"забыть\".\n",
        "\n",
        "![](https://habrastorage.org/r/w1560/webt/xt/_q/nj/xt_qnjgfjengqoqd4gizkq4j_wk.png)\n",
        "\n",
        "Все эти нейросети довольно долго обучаются, потому что обучаются только последовательно, в то время как многие другие нейросети умеют обучаться параллельно на нескольких батчах.\n"
      ]
    },
    {
      "cell_type": "code",
      "metadata": {
        "id": "w1OBI_oYqOz-"
      },
      "source": [
        "import pandas as pd\n",
        "from sklearn.model_selection import train_test_split\n",
        "from tensorflow.keras.models import Sequential\n",
        "from tensorflow.keras import Input\n",
        "from tensorflow.keras.layers.experimental.preprocessing import TextVectorization\n",
        "from tensorflow.keras.layers import Embedding\n",
        "from tensorflow.keras.layers import LSTM\n",
        "from tensorflow.keras.layers import Dense\n",
        "from tensorflow.keras.utils import to_categorical"
      ],
      "execution_count": 7,
      "outputs": []
    },
    {
      "cell_type": "code",
      "metadata": {
        "colab": {
          "base_uri": "https://localhost:8080/"
        },
        "id": "nN1nqVbr_FX_",
        "outputId": "647c44a9-0f5c-4d00-9402-746403531548"
      },
      "source": [
        "import nltk\n",
        "\n",
        "nltk.download('wordnet')"
      ],
      "execution_count": 59,
      "outputs": [
        {
          "output_type": "stream",
          "name": "stdout",
          "text": [
            "[nltk_data] Downloading package wordnet to /root/nltk_data...\n",
            "[nltk_data]   Package wordnet is already up-to-date!\n"
          ]
        },
        {
          "output_type": "execute_result",
          "data": {
            "text/plain": [
              "True"
            ]
          },
          "metadata": {},
          "execution_count": 59
        }
      ]
    },
    {
      "cell_type": "markdown",
      "metadata": {
        "id": "5gz_9Ii3JMgM"
      },
      "source": [
        "## Описание датасета\n",
        "\n",
        "Датасет на английском языке с отзывами критиков с IMDb. Есть позитивные и негативные отзывы. Нужно научиться классифицировать отзыв.\n",
        "\n",
        "Пример:\n",
        "- Liked Stanley & Iris very much. Acting was very good. Story had a unique and interesting arrangement…\t (Positive)\n",
        "- This is the worst thing the TMNT franchise has ever spawned. I was a kid when this came out and I still thought it was deuce…\t(Negative)"
      ]
    },
    {
      "cell_type": "code",
      "metadata": {
        "colab": {
          "base_uri": "https://localhost:8080/"
        },
        "id": "Cku-cs8R9NXB",
        "outputId": "9e43e824-8238-4f87-a038-445bebb1cdc7"
      },
      "source": [
        "! wget https://victorzhou.com/movie-reviews-dataset.zip"
      ],
      "execution_count": 44,
      "outputs": [
        {
          "output_type": "stream",
          "name": "stdout",
          "text": [
            "--2021-11-20 15:26:56--  https://victorzhou.com/movie-reviews-dataset.zip\n",
            "Resolving victorzhou.com (victorzhou.com)... 172.67.153.220, 104.21.72.186, 2606:4700:3035::6815:48ba, ...\n",
            "Connecting to victorzhou.com (victorzhou.com)|172.67.153.220|:443... connected.\n",
            "HTTP request sent, awaiting response... 200 OK\n",
            "Length: 62951389 (60M) [application/zip]\n",
            "Saving to: ‘movie-reviews-dataset.zip’\n",
            "\n",
            "movie-reviews-datas 100%[===================>]  60.03M  53.5MB/s    in 1.1s    \n",
            "\n",
            "2021-11-20 15:26:58 (53.5 MB/s) - ‘movie-reviews-dataset.zip’ saved [62951389/62951389]\n",
            "\n"
          ]
        }
      ]
    },
    {
      "cell_type": "code",
      "metadata": {
        "id": "LU7qrght9ULd"
      },
      "source": [
        "! unzip movie-reviews-dataset.zip"
      ],
      "execution_count": null,
      "outputs": []
    },
    {
      "cell_type": "code",
      "metadata": {
        "colab": {
          "base_uri": "https://localhost:8080/"
        },
        "id": "3pm2ZzR98dfB",
        "outputId": "e3335668-5171-4101-8b36-239fd74dcceb"
      },
      "source": [
        "!ls movie-reviews-dataset/test"
      ],
      "execution_count": 48,
      "outputs": [
        {
          "output_type": "stream",
          "name": "stdout",
          "text": [
            "neg  pos\n"
          ]
        }
      ]
    },
    {
      "cell_type": "markdown",
      "metadata": {
        "id": "1ROnPQWZJEbo"
      },
      "source": [
        "## Напишем функции для предобработки"
      ]
    },
    {
      "cell_type": "markdown",
      "metadata": {
        "id": "0EfyCfPL-boy"
      },
      "source": [
        "## Задача\n",
        "\n",
        "Дописать функцию preprocess_str. Добавить лемматизацию, убрать пунктуацию, привести к нижнему регистру."
      ]
    },
    {
      "cell_type": "code",
      "metadata": {
        "id": "oxnnQXXx-0xr"
      },
      "source": [
        "def preprocess_str(text):\n",
        "    # Ваш код здесь\n",
        "    return text\n"
      ],
      "execution_count": 83,
      "outputs": []
    },
    {
      "cell_type": "code",
      "metadata": {
        "colab": {
          "base_uri": "https://localhost:8080/"
        },
        "id": "x0h5OgXY1E0i",
        "outputId": "4745fe7a-2d32-413e-9bde-67e539b36adc"
      },
      "source": [
        "# Пример лемматизации для английского языка\n",
        "from nltk.stem import WordNetLemmatizer\n",
        " \n",
        "lemmatizer = WordNetLemmatizer()\n",
        " \n",
        "print(\"rocks :\", lemmatizer.lemmatize(\"rocks\"))"
      ],
      "execution_count": 60,
      "outputs": [
        {
          "output_type": "stream",
          "name": "stdout",
          "text": [
            "rocks : rock\n"
          ]
        }
      ]
    },
    {
      "cell_type": "code",
      "metadata": {
        "colab": {
          "base_uri": "https://localhost:8080/",
          "height": 35
        },
        "id": "6rdye6N__aCY",
        "outputId": "573c2869-ad13-4c7d-8df4-f1dd12bbacce"
      },
      "source": [
        "# Пример удаления пунктуации\n",
        "import re\n",
        "s = \"string. With. Punctuation?\"\n",
        "s = re.sub(r'[^\\w\\s]','',s)\n",
        "s"
      ],
      "execution_count": 61,
      "outputs": [
        {
          "output_type": "execute_result",
          "data": {
            "application/vnd.google.colaboratory.intrinsic+json": {
              "type": "string"
            },
            "text/plain": [
              "'string With Punctuation'"
            ]
          },
          "metadata": {},
          "execution_count": 61
        }
      ]
    },
    {
      "cell_type": "markdown",
      "metadata": {
        "id": "cZSiB8BFJIul"
      },
      "source": [
        "## Загрузим данные"
      ]
    },
    {
      "cell_type": "code",
      "metadata": {
        "colab": {
          "base_uri": "https://localhost:8080/"
        },
        "id": "JbY-nwtg_q38",
        "outputId": "8df77331-a2e4-4932-ddf7-90b7b7818c6c"
      },
      "source": [
        "from tensorflow.keras.preprocessing import text_dataset_from_directory\n",
        "from tensorflow.strings import regex_replace\n",
        "\n",
        "\n",
        "def prepare_data(dir):\n",
        "  data = text_dataset_from_directory(dir)\n",
        "  texts = []\n",
        "  labels = []\n",
        "  for text, label in data:\n",
        "      texts.extend(text.numpy().tolist())\n",
        "      labels.extend(label.numpy().tolist())\n",
        "  return pd.DataFrame({'text': texts, 'label': labels})\n",
        "\n",
        "train_data = prepare_data(\"/content/movie-reviews-dataset/train\")\n",
        "test_data = prepare_data(\"/content/movie-reviews-dataset/test\")"
      ],
      "execution_count": 164,
      "outputs": [
        {
          "output_type": "stream",
          "name": "stdout",
          "text": [
            "Found 25000 files belonging to 2 classes.\n",
            "Found 25000 files belonging to 2 classes.\n"
          ]
        }
      ]
    },
    {
      "cell_type": "code",
      "metadata": {
        "id": "mQdmZ0sKCXai"
      },
      "source": [
        "def final_preprocess(text):\n",
        "    text = str(text)\n",
        "    return preprocess_str(text.replace('<br />', ' '))\n",
        "\n",
        "train_data['preprocessed'] = train_data.text.apply(final_preprocess)\n",
        "test_data['preprocessed'] = test_data.text.apply(final_preprocess)"
      ],
      "execution_count": 165,
      "outputs": []
    },
    {
      "cell_type": "code",
      "metadata": {
        "colab": {
          "base_uri": "https://localhost:8080/"
        },
        "id": "Tz_9Bpx7KEbs",
        "outputId": "e0bf0bcd-a1fa-4f65-e6ce-266ca6ba4f84"
      },
      "source": [
        "train_data['preprocessed'].iloc[:10].values"
      ],
      "execution_count": 166,
      "outputs": [
        {
          "output_type": "execute_result",
          "data": {
            "text/plain": [
              "array(['b\"this movie was awful in the worst way: you just didn\\'t care. you didn\\'t care what happened in the plot; you didn\\'t care about the characters. everyone was devoid of heart. i ended up walking out about an 45 minutes into it because i simply didn\\'t want to subject my mind to it any more. there is far too much sex in the film. sex can be okay; it can even make the movie (hence karma sutra) but the intercourse here was not beautiful or sexy. it was just ugly. don\\'t see this film.\"',\n",
              "       \"b'i read many commits when it was in the theaters and they were all bad....i think you have to be a certain type of person to enjoy these movies. if you are not a person that enjoyed the waltons or little house...u will not understand nor enjoy these movies...  now about loves abiding joy...i knew he was bad news from the start of the movie....i wish it would have shown more of the end instead of letting you just think it. this movie has a lot to do with jeff....it is 6 years later so you know he will be interested in girls.  i want to say that i have enjoyed all 4 movies so far....was not crazy about the books...cant wait until the next movie. the way clark talks will get you every time. i would love to see january jones do an appearance...maybe a family reunion or something.'\",\n",
              "       'b\"my college professor says that othello may be shakespeare\\'s finest drama. i don\\'t know if i agree with him yet. i bought this video version of the film. first i love kenneth branagh as iago, he was perfectly complicated and worked very well in this adaptation. surprisingly, he didn\\'t direct it but played a role. lawrence fishburne shows that american actors can play shakespeare just as well as british actors can do. not that there was a british vs. american issue about it. in fact, if we all work together then shakespeare can reach the masses which it richly deserves to do. apart from other shakespeare tragedies, this is dealt with the issue of race. something that has existed since the beginning of time. the relationship between iago and emilia could have been better and shown the complicatedness of their union together. while othello loves desdemona with all his heart, he is weak for jealousy and fears losing her to a non-moorish man like cassio. it\\'s quite a great scene at the end of the film but i won\\'t reveal the ending. it\\'s just worth watching. i think they edited much of the lines to 2 hours but they always edit shakespeare.\"',\n",
              "       'b\"another movie that relies upon the trite, worn-out clich\\\\xc3\\\\xa9 of the mad scientist gone madder. the movie centers around a surgeon whose life\\'s ambition is to bring the dead...back to life. i know, i know...you\\'ve never heard that one before! of course, as all of these movies go, the experiment goes very, very wrong and creates a maniacal, bloodthirsty creature. for this promising setup, you\\'d think that it\\'d be at least a bit suspenseful. wrong. like many movies of this era, the idea is nice, but the execution and the script is mediocre. not the worst horror movie i\\'ve seen (no, abominator: the evilmaker 2 still takes the cake)...but not one of the gems, either.\"',\n",
              "       'b\"yet another example of the complete waste of uk lottery money. just how commercial did this film prove. the film council ,who funded this miserable garbage should be stranded, on one of the london undergrounds disused stations, for allowing this clich\\\\xc3\\\\xa9d, dismal specimen to be committed to film, a half mutant thing made up of all the horror movies the director has seen and felt fit to imitate, most notably deathline. amongst its many sins is the quite obvious failure to make the lead character remotely sympathetic until the last minute. it\\'s a little bit too late then! surely all those development executives, at the uk film council, could have noticed this at the script stage. add to this the terrible acting and the laughable appearance of the creature and you get a prime example of how not to scare.\"',\n",
              "       \"b'whoever made this movie must have done it as a joke. i mean, this was the stupidest movie i think i have ever seen!! a killer snowman terrorizes a small town? give me a break. love it when he takes off driving the cop car. more like a comedy than a horror movie. if you want a laugh, rent this. if you truly want a horror movie, stay the hell away from this one!!'\",\n",
              "       \"b'i first saw this film when i was about seven years old and was completely enchanted by it then but for years was unable to find out what the film was called. now i am twenty one and stumbled upon the film by accident about two weeks ago and bought a copy. although my memory of the film was a little hazy i was in no way disappointed by what i saw. the animation in this film is superb conjuring up an entire world that is so believable and so well animated that you are drawn in to the film by that alone. but this film also has a plot that will enchant and entertain adults and children alike. with a floating island, a mad general, a friendly pirate granny and a well constructed love story this film will not let you down i would recommend this film to any one.'\",\n",
              "       'b\"magicians is a wonderful ride from start to finish, thanks in large part to the magic that is generated by the stars. alan arkin is fantastic in one of his best roles in decades. like any really fine film, it\\'s a journey in which the theme is redemption and the results of dreaming. i can\\'t believe this film is so difficult to find -- i\\'d buy it on dvd in a heartbeat but have yet to find an outlet.\"',\n",
              "       'b\\'one word: supurrrrb! i don\\\\\\'t think i have see anything like this in a long time on network or cable television. watching this show was like taking a breath of fresh air amid tv schedule filled with reality shows and boring re-runs.   i have to say i had my reservations. after all, critics were almost unanimous in crying foul and downgrading the show. but when half an hour was over (by the way, thank you, nbc, for running a commercial-free show), i was left with the feeling of instant love, love at first glance, the true love that one feels in his guts. everything about this show screamed excellence.  graphics in this show were at least as good as finding nemo and shrek. no small feat considering those movies took years to be developed.  cast was marvelous. i am partial to john goodman\\\\\\'s voice, but the rest of the team certainly were on par with john. special mention: lisa kudrow\\\\\\'s guest appearance. she was on top of the game creating neurotic, pudgy, and lovable panda with a jewish streak in her. (panda from brooklyn? only in this show.)   script was funny, with a lot of inside and adult jokes which were sharp, yet not tacky. a note for all parents: this is not for children. this show was never advertised as such, and there\\\\\\'s a reason why it\\\\\\'s set for 9pm, not 8pm. so if you\\\\\\'d like to complain about \"objectionable context\", save your breath. adults deserve a comedy made just for them, and father of the pride is it.   not everything was perfect. i was a bit puzzled by siegfried and roy\\\\\\'s characters. do i sense \"stereotype\" when it comes to them? yes, they are gay. yes, they are flamboyant. yes, they speak with german accents. but that\\\\\\'s yesterday\\\\\\'s news. give us something new, something fresh, something funny. putting the old jokes in a new show is definitely the wrong approach. i understand that the creators of this show wanted to use the \"star power\" that these guys have. that\\\\\\'s fine by me. but please don\\\\\\'t dwell on something everybody already knows by heart. hopefully, the rest of the show is not going to play the same old record over and over.   in general, the show is definitely a must-see-tv. funny, witty, with a few unexpected twists here and there -- there haven\\\\\\'t been a comedy this good since seinfeld. i am certainly looking forward to the next episode.\\'',\n",
              "       'b\\'as a child i always hated being forced to sit through musicals. i never understood why people would break out into song like that, and i was far too young to appreciate the artistry (choreography, set design, costumes, pacing) behind it all. carol reed\\\\\\'s \"oliver!\" was the one musical i remember oddly enjoying as a child, probably because it is one of the darker ones and is appropriately drenched in the spirit of dickensian squalor. this is a musical about ghetto life in victorian london, and while the scenery and set designs are stark, dark, and true to that way of life, it is flat out bizarre for people to be breaking out into such ridiculous songs amidst their misery. upon a recent viewing, my first since childhood, i have some new thoughts and insights into why this musical \"works\" in that bizarre breaking out into song kind of way, and why most just don\\\\\\'t do it for me.  when musicals work or really say something, it is because they realize their own inherent strangeness. lars von trier\\\\\\'s \"dancer in the dark\" as tragic and operatic and over reaching as it was, worked as a musical because the musical numbers were the products of the imagination of the protagonist, an immigrant obsessed with hollywood musicals. likewise, the very cynical and enjoyable \"chicago\" worked on a similar level because the musical numbers were the products of a homicidal ingenue singer/dancer. musicals don\\\\\\'t work when they take their own musical-nature too seriously (like in \"moulin rouge\") or are simply too much fluff about nothing (i.e. something pointless like \"mary poppins\"). upon viewing \"oliver!\" for the first time as an adult, i saw it in a new light. told mostly from the point of view young oliver, i saw the musical numbers as the products of his childhood imagination and his way of coping with the horrors of ghetto life around him. the best musical number was probably when nancy got everyone in the tavern signing and dancing about the joys of getting drunk (as a cover to help poor oliver escape the clutches of the evil bill sykes). it was undeniably catchy and sounded like a real pub tune that drunks might start singing around a piano. there are other great and classic tunes to be heard here, and the direction and acting from the leads to the dancing extras are all top notch.  still, for all its bleakness (although it does have a happy ending for oliver at least, though certainly things didn\\\\\\'t end happily for nancy, and unless you think a life on the streets being a pick-pocket is fun, it wasn\\\\\\'t a necessarily a good ending for fagin or the dodger, despite their peppy closing tune) i wouldn\\\\\\'t really classify this as a family film, though i don\\\\\\'t think showing it to kids over the age of seven or eight will do any harm. this is a harsh tale about an unfortunate orphan trying to survive on the streets and find some happiness. i think it would be very interesting to see a modern update on this some how, perhaps a revisionist take on it, where people on the streets of compton break into happy songs about their horrible lives. i\\\\\\'d like to see a hard-edged hip-hop version of \"oliver!\". i always thought dickens would translate well in those regards. as it stands, \"oliver!\" was probably the last of the great film musicals and maybe the strangest g-rated film i\\\\\\'ve ever seen.\\''],\n",
              "      dtype=object)"
            ]
          },
          "metadata": {},
          "execution_count": 166
        }
      ]
    },
    {
      "cell_type": "markdown",
      "metadata": {
        "id": "sS-TwUWYGaHI"
      },
      "source": [
        "Классы сбалансированны, можем использовать accuracy"
      ]
    },
    {
      "cell_type": "code",
      "metadata": {
        "colab": {
          "base_uri": "https://localhost:8080/",
          "height": 282
        },
        "id": "_3IKsw8VGXP9",
        "outputId": "a36f1e77-db6c-4cf5-d32a-e2d0f8195390"
      },
      "source": [
        "train_data['label'].hist()"
      ],
      "execution_count": 167,
      "outputs": [
        {
          "output_type": "execute_result",
          "data": {
            "text/plain": [
              "<matplotlib.axes._subplots.AxesSubplot at 0x7f7cc3313ed0>"
            ]
          },
          "metadata": {},
          "execution_count": 167
        },
        {
          "output_type": "display_data",
          "data": {
            "image/png": "[encoded data removed]",
            "text/plain": [
              "<Figure size 432x288 with 1 Axes>"
            ]
          },
          "metadata": {
            "needs_background": "light"
          }
        }
      ]
    },
    {
      "cell_type": "markdown",
      "metadata": {
        "id": "YwR4JN1wK-NF"
      },
      "source": [
        "## Построим модель"
      ]
    },
    {
      "cell_type": "code",
      "metadata": {
        "id": "hm1yT4yA5KR0"
      },
      "source": [
        "# Создадим слой, который будет обрабатывать входные данные \n",
        "max_tokens = 1000\n",
        "max_len = 100\n",
        "vectorize_layer = TextVectorization(\n",
        "  max_tokens=max_tokens,\n",
        "  output_mode=\"int\",\n",
        "  output_sequence_length=max_len,\n",
        ")\n",
        "vectorize_layer.adapt(train_data.preprocessed)"
      ],
      "execution_count": 168,
      "outputs": []
    },
    {
      "cell_type": "code",
      "metadata": {
        "id": "5IV0dMAOrfE7"
      },
      "source": [
        "model = Sequential()\n",
        "model.add(Input(shape=(1,), dtype=\"string\"))\n",
        "\n",
        "model.add(vectorize_layer)\n",
        "\n",
        "# Добавляем единицу для всех слов, которые \"out of vocabulary\"\n",
        "model.add(Embedding(max_tokens + 1, 128))\n",
        "\n",
        "model.add(LSTM(64))\n",
        "\n",
        "model.add(Dense(32, activation=\"relu\"))\n",
        "model.add(Dense(1, activation=\"sigmoid\"))\n",
        "\n",
        "model.compile(\n",
        "  optimizer='adam',\n",
        "  loss='binary_crossentropy',\n",
        "  metrics=['accuracy'],\n",
        ")"
      ],
      "execution_count": 181,
      "outputs": []
    },
    {
      "cell_type": "code",
      "metadata": {
        "colab": {
          "base_uri": "https://localhost:8080/"
        },
        "id": "GXTBgUwsr1B0",
        "outputId": "97952a9e-0f76-4b82-ad23-3a43be04ec56"
      },
      "source": [
        "batch_size = 128\n",
        "model.fit(train_data.preprocessed, train_data.label, batch_size=batch_size, epochs=10)"
      ],
      "execution_count": 98,
      "outputs": [
        {
          "output_type": "stream",
          "name": "stdout",
          "text": [
            "Epoch 1/10\n",
            "196/196 [==============================] - 40s 206ms/step - loss: 0.4464 - accuracy: 0.7970\n",
            "Epoch 2/10\n",
            "196/196 [==============================] - 40s 206ms/step - loss: 0.4266 - accuracy: 0.8062\n",
            "Epoch 3/10\n",
            "196/196 [==============================] - 40s 206ms/step - loss: 0.4133 - accuracy: 0.8120\n",
            "Epoch 4/10\n",
            "196/196 [==============================] - 40s 204ms/step - loss: 0.3938 - accuracy: 0.8176\n",
            "Epoch 5/10\n",
            "196/196 [==============================] - 40s 206ms/step - loss: 0.3821 - accuracy: 0.8271\n",
            "Epoch 6/10\n",
            "196/196 [==============================] - 40s 205ms/step - loss: 0.3710 - accuracy: 0.8282\n",
            "Epoch 7/10\n",
            "196/196 [==============================] - 40s 205ms/step - loss: 0.3586 - accuracy: 0.8370\n",
            "Epoch 8/10\n",
            "196/196 [==============================] - 40s 203ms/step - loss: 0.3445 - accuracy: 0.8468\n",
            "Epoch 9/10\n",
            "196/196 [==============================] - 40s 205ms/step - loss: 0.3290 - accuracy: 0.8561\n",
            "Epoch 10/10\n",
            "196/196 [==============================] - 44s 223ms/step - loss: 0.3190 - accuracy: 0.8599\n"
          ]
        },
        {
          "output_type": "execute_result",
          "data": {
            "text/plain": [
              "<keras.callbacks.History at 0x7f7cbaca4bd0>"
            ]
          },
          "metadata": {},
          "execution_count": 98
        }
      ]
    },
    {
      "cell_type": "markdown",
      "metadata": {
        "id": "ozKXNFZnEdy2"
      },
      "source": [
        "## Задача \n",
        "\n",
        "- Добавить второй слой LSTM (сразу вслед за первым). В первый слой нужно добавить параметр `return_sequences=True`\n",
        "- Добавить Dropout в один из LSTM слоев. Пример: `LSTM(64, dropout=0.25)`\n",
        "- Добавить Dropout после Dense слоя\n",
        "\n",
        "Обучить модель на 10 эпохах. Оценить качество модели на тестовой выборке."
      ]
    },
    {
      "cell_type": "code",
      "metadata": {
        "id": "RmbFuVpQGCrk"
      },
      "source": [
        "# Оцените качество здесь\n"
      ],
      "execution_count": null,
      "outputs": []
    },
    {
      "cell_type": "markdown",
      "metadata": {
        "id": "c-AF2Qv5Ev_r"
      },
      "source": [
        "## Задача\n",
        "\n",
        "Обучить пайплайн с TF-IDF и логистической регрессией на треин выборке и оценить качество на тестовой."
      ]
    },
    {
      "cell_type": "code",
      "metadata": {
        "id": "V3Owjw2cDm0a"
      },
      "source": [
        "from sklearn.pipeline import Pipeline\n",
        "from sklearn.feature_extraction.text import CountVectorizer\n",
        "from sklearn.feature_extraction.text import TfidfTransformer\n",
        "from sklearn.linear_model import LogisticRegression"
      ],
      "execution_count": 92,
      "outputs": []
    },
    {
      "cell_type": "markdown",
      "metadata": {
        "id": "UqaW38AxMl5B"
      },
      "source": [
        "## Генеративные сети\n",
        "\n",
        "https://www.tensorflow.org/tutorials/generative/dcgan"
      ]
    },
    {
      "cell_type": "markdown",
      "metadata": {
        "id": "OvIvgplWXMXN"
      },
      "source": [
        "## Файн-тюнинг моделей\n",
        "\n",
        "https://www.tensorflow.org/tutorials/images/transfer_learning"
      ]
    },
    {
      "cell_type": "markdown",
      "metadata": {
        "id": "mC88qsTXWIPO"
      },
      "source": [
        "## Прогнозирование временных рядов при помощи LSTM\n",
        "\n",
        "https://www.tensorflow.org/tutorials/structured_data/time_series\n",
        "\n"
      ]
    },
    {
      "cell_type": "markdown",
      "metadata": {
        "id": "GOqp5sz5Wftx"
      },
      "source": [
        "## Домашняя работа\n",
        "\n",
        "Ознакомиться с материалами ниже и доделать домашку с предыдущих заданий"
      ]
    },
    {
      "cell_type": "markdown",
      "metadata": {
        "id": "FVhF_v4VkIfe"
      },
      "source": [
        "[Статья с сентимент-анализом ревью с IMDb](https://victorzhou.com/blog/keras-rnn-tutorial/)\n",
        "\n",
        "[Видео про трансформеры и seq2seq модели](https://www.youtube.com/watch?v=TQQlZhbC5ps)\n",
        "\n",
        "[Файн-тюнинг модели ResNet на датасете камуфлированной одежды](https://www.pyimagesearch.com/2020/04/27/fine-tuning-resnet-with-keras-tensorflow-and-deep-learning/)\n",
        "\n",
        "[Очень подробно про LSTM для заинтересованных](https://colab.research.google.com/github/kmkarakaya/ML_tutorials/blob/master/LSTM_Understanding_Output_Types.ipynb)"
      ]
    }
  ]
}