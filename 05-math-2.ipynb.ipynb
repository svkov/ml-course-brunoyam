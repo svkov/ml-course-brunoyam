{
 "cells": [
  {
   "cell_type": "markdown",
   "id": "14cb03f5-50d6-4796-9c41-4663d93ef418",
   "metadata": {
    "tags": []
   },
   "source": [
    "# Математическая статистика\n",
    "\n",
    "Статистику любят спрашивать на собеседованиях и она убедительно выглядит в отчетах. \n",
    "\n",
    "Также используется \"под капотом\" многих моделей машинного обучения. \n",
    "\n",
    "Напрямую со статистикой работают далеко не во всех задачах.\n",
    "\n",
    "<i>\"Существуют три вида лжи: ложь, наглая ложь и статистика\"</i> - Марк Твен"
   ]
  },
  {
   "cell_type": "code",
   "execution_count": 1,
   "id": "121cfeac-5522-463e-beea-ea5c0f703d59",
   "metadata": {},
   "outputs": [],
   "source": [
    "import pandas as pd\n",
    "import numpy as np\n",
    "import matplotlib.pyplot as plt"
   ]
  },
  {
   "cell_type": "markdown",
   "id": "d4d4750f-bd23-49bc-9c86-c62b7082389a",
   "metadata": {
    "tags": []
   },
   "source": [
    "## Закон больших чисел\n",
    "\n",
    "Один из основных законов, который связывает теорию вероятностей и статистику"
   ]
  },
  {
   "cell_type": "code",
   "execution_count": 115,
   "id": "9915b67f-4d6c-4641-9dc9-30fcf68a66a6",
   "metadata": {},
   "outputs": [
    {
     "name": "stdout",
     "output_type": "stream",
     "text": [
      "n=2 mu=10.00, mean=-2.03, error=12.03\n",
      "n=10 mu=10.00, mean=11.08, error=-1.08\n",
      "n=100 mu=10.00, mean=9.06, error=0.94\n",
      "n=1000 mu=10.00, mean=10.25, error=-0.25\n",
      "n=100000 mu=10.00, mean=9.96, error=0.04\n"
     ]
    }
   ],
   "source": [
    "mu = 10\n",
    "for n in [2, 10, 100, 1000, 100000]:\n",
    "    mean = np.random.normal(mu, 10, size=n).mean()\n",
    "    print(f'n={n} mu={mu:.2f}, mean={mean:.2f}, error={10-mean:.2f}')"
   ]
  },
  {
   "cell_type": "markdown",
   "id": "0d99d9e1-6438-4b72-af06-a793c42d9cd8",
   "metadata": {},
   "source": [
    "С ростом размера выборки, ее среднее будет стремиться к матожиданию.\n",
    "\n",
    "Есть обратная [теорема о бесконечных обезьянах](https://ru.wikipedia.org/wiki/%D0%A2%D0%B5%D0%BE%D1%80%D0%B5%D0%BC%D0%B0_%D0%BE_%D0%B1%D0%B5%D1%81%D0%BA%D0%BE%D0%BD%D0%B5%D1%87%D0%BD%D1%8B%D1%85_%D0%BE%D0%B1%D0%B5%D0%B7%D1%8C%D1%8F%D0%BD%D0%B0%D1%85)."
   ]
  },
  {
   "cell_type": "markdown",
   "id": "8344143e-074b-4ae7-ab5c-d1f2716083d0",
   "metadata": {},
   "source": [
    "## Задача\n",
    "\n",
    "Вычислить вероятность того, что обезьяна напишет слово \"абракадабра\" на клавиатуре с 40 клавишами."
   ]
  },
  {
   "cell_type": "code",
   "execution_count": 125,
   "id": "da128563-d8ae-4852-bc2a-8d1cf844f25c",
   "metadata": {},
   "outputs": [],
   "source": [
    "word = 'абракадабра'\n",
    "n_keys = 40\n",
    "\n",
    "# Ваш код здесь\n"
   ]
  },
  {
   "cell_type": "markdown",
   "id": "07fa3a3d-d146-480e-acff-d58a7a2dfc4e",
   "metadata": {
    "tags": []
   },
   "source": [
    "## ЦПТ (Центральная предельная теорема)"
   ]
  },
  {
   "cell_type": "markdown",
   "id": "b2adff0c-7651-441a-8281-e667ba728fee",
   "metadata": {},
   "source": [
    "Сгенерируем из равномреного распределения от 0 до 1 несколько значений"
   ]
  },
  {
   "cell_type": "code",
   "execution_count": 52,
   "id": "8b3b48aa-dc4b-4c71-92ff-fdf74cf227a9",
   "metadata": {},
   "outputs": [
    {
     "data": {
      "text/plain": [
       "(array([538., 525., 504., 453., 462., 511., 512., 502., 520., 473.]),\n",
       " array([3.60394215e-04, 1.00298641e-01, 2.00236888e-01, 3.00175136e-01,\n",
       "        4.00113383e-01, 5.00051630e-01, 5.99989877e-01, 6.99928124e-01,\n",
       "        7.99866371e-01, 8.99804618e-01, 9.99742865e-01]),\n",
       " <BarContainer object of 10 artists>)"
      ]
     },
     "execution_count": 52,
     "metadata": {},
     "output_type": "execute_result"
    },
    {
     "data": {
      "image/png": "[encoded data removed]",
      "text/plain": [
       "<Figure size 432x288 with 1 Axes>"
      ]
     },
     "metadata": {
      "needs_background": "light"
     },
     "output_type": "display_data"
    }
   ],
   "source": [
    "uniform_dist = np.random.uniform(0, 1, size=5000)\n",
    "plt.hist(uniform_dist)"
   ]
  },
  {
   "cell_type": "markdown",
   "id": "60a99036-97c6-4243-b36a-957db9d58ff8",
   "metadata": {},
   "source": [
    "Сгенерируем большое количество выборок из этого распределения, возьмем для каждой из них среднее и из средних построим гистограмму.\n",
    "\n",
    "Какое распределение напоминает?"
   ]
  },
  {
   "cell_type": "code",
   "execution_count": 306,
   "id": "283b3829-7fd7-4100-b399-df1eb8711ea8",
   "metadata": {},
   "outputs": [
    {
     "data": {
      "text/plain": [
       "(array([ 27.,  50.,  75.,  82., 119., 138., 158., 147., 205., 202., 222.,\n",
       "        252., 279., 304., 331., 332., 252., 262., 259., 229., 200., 175.,\n",
       "        164., 133., 127.,  84.,  75.,  59.,  41.,  17.]),\n",
       " array([0.01869431, 0.05116529, 0.08363627, 0.11610725, 0.14857824,\n",
       "        0.18104922, 0.2135202 , 0.24599118, 0.27846216, 0.31093314,\n",
       "        0.34340413, 0.37587511, 0.40834609, 0.44081707, 0.47328805,\n",
       "        0.50575904, 0.53823002, 0.570701  , 0.60317198, 0.63564296,\n",
       "        0.66811394, 0.70058493, 0.73305591, 0.76552689, 0.79799787,\n",
       "        0.83046885, 0.86293984, 0.89541082, 0.9278818 , 0.96035278,\n",
       "        0.99282376]),\n",
       " <BarContainer object of 30 artists>)"
      ]
     },
     "execution_count": 306,
     "metadata": {},
     "output_type": "execute_result"
    },
    {
     "data": {
      "image/png": "[encoded data removed]",
      "text/plain": [
       "<Figure size 432x288 with 1 Axes>"
      ]
     },
     "metadata": {
      "needs_background": "light"
     },
     "output_type": "display_data"
    }
   ],
   "source": [
    "n = 2\n",
    "sample = np.random.uniform(0, 1, size=(5000, n))\n",
    "mean = sample.mean(axis=1)\n",
    "plt.hist(mean, bins=30)"
   ]
  },
  {
   "cell_type": "markdown",
   "id": "5fedaf53-7705-4636-941e-cdb53a462dcc",
   "metadata": {},
   "source": [
    "Возьмем любое другое распределение (например, биномиальное)\n",
    "\n",
    "При каком n распределение стабильно выглядит как нормальное?"
   ]
  },
  {
   "cell_type": "code",
   "execution_count": 127,
   "id": "b3142144-515d-4c4d-82ea-fc454d9dd4c7",
   "metadata": {},
   "outputs": [
    {
     "data": {
      "text/plain": [
       "(array([1121.,    0., 1681.,    0.,    0., 1299.,    0.,    0.,  628.,\n",
       "           0.,    0.,  197.,    0.,    0.,   50.,    0.,    0.,   19.,\n",
       "           0.,    5.]),\n",
       " array([0.   , 0.175, 0.35 , 0.525, 0.7  , 0.875, 1.05 , 1.225, 1.4  ,\n",
       "        1.575, 1.75 , 1.925, 2.1  , 2.275, 2.45 , 2.625, 2.8  , 2.975,\n",
       "        3.15 , 3.325, 3.5  ]),\n",
       " <BarContainer object of 20 artists>)"
      ]
     },
     "execution_count": 127,
     "metadata": {},
     "output_type": "execute_result"
    },
    {
     "data": {
      "image/png": "[encoded data removed]",
      "text/plain": [
       "<Figure size 432x288 with 1 Axes>"
      ]
     },
     "metadata": {
      "needs_background": "light"
     },
     "output_type": "display_data"
    }
   ],
   "source": [
    "n = 2\n",
    "sample = np.random.binomial(15, 0.05, size=(5000, n)).mean(axis=1)\n",
    "plt.hist(sample, bins=20)"
   ]
  },
  {
   "cell_type": "markdown",
   "id": "bd1f4c4b-7901-4655-9e77-0458eaa8d216",
   "metadata": {},
   "source": [
    "Центральная предельная теорема позволяет привести любое распределение к нормальному.\n",
    "\n",
    "С помощью ЦПТ можно строить доверительный интервалы для любого распределения"
   ]
  },
  {
   "cell_type": "markdown",
   "id": "2ba143f4-6e00-440b-b7e2-b3a7b70e3d8b",
   "metadata": {},
   "source": [
    "## Задача\n",
    "\n",
    "Для бета-распределения с параметрами 1 и 0.1, найти n, для которого распределение средних значений выборок будет похоже на нормальное."
   ]
  },
  {
   "cell_type": "code",
   "execution_count": 336,
   "id": "c8ce1ad6-b2c7-438b-9567-b70427e940e2",
   "metadata": {},
   "outputs": [
    {
     "data": {
      "text/plain": [
       "(array([ 16.,  30.,  86., 151., 222., 224., 158.,  88.,  22.,   3.]),\n",
       " array([0.85241778, 0.86408781, 0.87575784, 0.88742788, 0.89909791,\n",
       "        0.91076794, 0.92243798, 0.93410801, 0.94577804, 0.95744808,\n",
       "        0.96911811]),\n",
       " <BarContainer object of 10 artists>)"
      ]
     },
     "execution_count": 336,
     "metadata": {},
     "output_type": "execute_result"
    },
    {
     "data": {
      "image/png": "[encoded data removed]",
      "text/plain": [
       "<Figure size 432x288 with 1 Axes>"
      ]
     },
     "metadata": {
      "needs_background": "light"
     },
     "output_type": "display_data"
    }
   ],
   "source": [
    "n = 100\n",
    "means = np.random.beta(1, 0.1, size=(1000, n)).mean(axis=1)\n",
    "plt.hist(means)"
   ]
  },
  {
   "cell_type": "markdown",
   "id": "9984b9fb-2cba-4fc5-9044-7214bdca09e0",
   "metadata": {
    "tags": []
   },
   "source": [
    "## Доверительные интервалы\n",
    "\n",
    "Иногда мы хотим не только оценить среднее выборки, но и понять в каком интервале это значение может меняться с заданным уровнем значимости.\n",
    "\n",
    "Например, мы знаем историю по продажам магазина за год и хотим узнать сколько в среднем продаж в месяц совершает магазин. \n",
    "\n",
    "Помимо самого числа нам хотелось бы знать с вероятностью, например, 95%, в каком интервале может меняться это значение."
   ]
  },
  {
   "cell_type": "markdown",
   "id": "d4e2b577-fa31-4745-b6c4-7cd214f0bbfd",
   "metadata": {},
   "source": [
    "### Вариант 1. Настоящая дисперсия известна\n",
    "\n",
    "Оценка получится довольно точной"
   ]
  },
  {
   "cell_type": "code",
   "execution_count": 299,
   "id": "2330f5a4-0212-4b07-b9c9-5eecdd9cd16f",
   "metadata": {},
   "outputs": [],
   "source": [
    "mean = 100\n",
    "std = 10 # Настоящее среднеквадратичное отклонение\n",
    "alpha = 0.05\n",
    "n = 12"
   ]
  },
  {
   "cell_type": "code",
   "execution_count": 300,
   "id": "d30f1758-ae6e-4a43-9cca-c1af23f9e943",
   "metadata": {},
   "outputs": [
    {
     "data": {
      "text/plain": [
       "(94.34207132961915, 105.65792867038085)"
      ]
     },
     "execution_count": 300,
     "metadata": {},
     "output_type": "execute_result"
    }
   ],
   "source": [
    "from scipy.stats import norm\n",
    "\n",
    "def get_confidence_interval(mean, std, n, alpha):\n",
    "    h = norm.ppf(1 - alpha / 2) * std / np.sqrt(n)\n",
    "    return mean - h, mean + h\n",
    "\n",
    "confidence_interval = get_confidence_interval(mean, std, n, alpha)\n",
    "\n",
    "confidence_interval"
   ]
  },
  {
   "cell_type": "markdown",
   "id": "69f73114-03db-408e-a686-3560af39503d",
   "metadata": {},
   "source": [
    "### Вариант 2. Настоящая дисперсия неизвестна\n",
    "\n",
    "Здесь std - среднеквадратичное отклонение, которое мы могли посчитать по данным\n",
    "\n",
    "Оценка получится неточной"
   ]
  },
  {
   "cell_type": "code",
   "execution_count": 303,
   "id": "01ddcb81-e2db-4067-ac71-4844ae98a4fc",
   "metadata": {},
   "outputs": [
    {
     "data": {
      "text/plain": [
       "(77.99014839917051, 122.00985160082949)"
      ]
     },
     "execution_count": 303,
     "metadata": {},
     "output_type": "execute_result"
    }
   ],
   "source": [
    "from scipy.stats import t\n",
    "\n",
    "t.interval(1 - alpha, n - 1, loc=mean, scale=std)"
   ]
  },
  {
   "cell_type": "markdown",
   "id": "713b72df-9362-4352-b3ea-77560ee7b427",
   "metadata": {},
   "source": [
    "В этом случае мы используем T-распределение Стьюдента, которое похоже на нормальное распределение. \n",
    "\n",
    "![student](images/student_t_distr.png)\n",
    "\n",
    "На картинке параметр $v$ - количество степеней свободы распределения. Если устремим к бесконечности, то получим нормальное распределение."
   ]
  },
  {
   "cell_type": "markdown",
   "id": "60be54ca-ecde-4181-9457-5af05d32c282",
   "metadata": {},
   "source": [
    "## Проверка гипотез\n",
    "\n",
    "Алгоритм проверки статистических гипотез:\n",
    "\n",
    "- Формулируем гипотезы H0 и H1\n",
    "- Выбираем уровень значимости\n",
    "- Определяем статистический критерий\n",
    "- Рассчитываем критерий\n",
    "- Принимаем решение"
   ]
  },
  {
   "cell_type": "markdown",
   "id": "06099faa-bf8c-43c0-b39b-4aeabb282636",
   "metadata": {},
   "source": [
    "### Шаг 1. Формулируем гипотезы\n",
    "\n",
    "Обычно формулируются две взаимоисключающие гипотезы. \n",
    "\n",
    "Гипотеза $H_0$ принимается за базовую (как было до нашего вмешательства, например). Альтернативная гипотеза $H_1$ показывает то, чего мы хотим достичь или что хотим доказать. \n",
    "\n",
    "Основные статистические тесты придумали до нас, нам остается только их правильно применить и не допустить ошибок в интерпретации.\n",
    "\n",
    "Например:\n",
    "\n",
    "- $H_0$: матожидание величины $F$ равно $a$\n",
    "- $H_1$: матожидание не равно $a$/больше $a$/меньше $a$\n",
    "\n",
    "Или:\n",
    "\n",
    "- $H_0$: Распределение $G$ - нормальное\n",
    "- $H_1$: Распределение принадлежит другому классу\n",
    "\n",
    "Или:\n",
    "\n",
    "- $H_0$: изменение цвета кнопки изменило количество кликов по ней\n",
    "- $H_1$: изменение цвета кнопки не повлияло на действия пользователя\n",
    "\n",
    "Или:\n",
    "\n",
    "- $H_0$: новое лекарство не влияет на выздоровление пациентов\n",
    "- $H_1$: с новым лекарством люди выздоравливают от болезни $X$ быстрее"
   ]
  },
  {
   "cell_type": "markdown",
   "id": "f813b025-ba47-49aa-b8a9-ec1f631b6285",
   "metadata": {},
   "source": [
    "### Шаг 2. Выбираем уровень значимости\n",
    "\n",
    "Насколько мы хотим быть уверены в результатах теста?\n",
    "\n",
    "Обычно берут уровень значимости 95%, и это некий стандарт (вам поверят, что ваш метод работает), но для каждой задачи надо выбирать свой уровень значимости. \n",
    "\n",
    "\n",
    "## Задача \n",
    "\n",
    "Человечество изобрело лекарство от рака! Клинические тесты показали, что оно действует с уровнем значимости 0.05, но у лекарства очень плохие побочные эффекты. \n",
    "\n",
    "Первая партия лекарства составила 50 млн ампул.\n",
    "\n",
    "Сколько людей можно было бы спасти, если бы проводимый тест был с уровнем значимости 0.01?"
   ]
  },
  {
   "cell_type": "code",
   "execution_count": 337,
   "id": "86227e16-e24e-4da4-97b8-4125717e07d0",
   "metadata": {},
   "outputs": [],
   "source": [
    "# Ваш код здесь"
   ]
  },
  {
   "cell_type": "markdown",
   "id": "d68e05bc-c4f5-442e-8e5b-4c0f815a29d7",
   "metadata": {},
   "source": [
    "### Ошибки I и II рода\n",
    "Существует два типа ошибок - ошибки первого и второго рода.\n",
    "\n",
    "Уровень значимости - вероятность не допустить ошибку первого рода\n",
    "\n",
    "Какую ошибку \"можно\" допустить, а какую нельзя?\n",
    "\n",
    "![type_error](images/type_error.jpg)"
   ]
  },
  {
   "cell_type": "markdown",
   "id": "7c15e6c2-9092-4a49-8b52-c07df3ae75ea",
   "metadata": {},
   "source": [
    "### Шаг 3. Определяем статистический критерий\n",
    "\n",
    "Существует множество статистических критериев, которые позволяют каким-то образом оценить по данным эксперимента его результат.\n",
    "\n",
    "Критерий выбирается от задачи, их существует большое множество, [на википедии можно посмотреть самые основные](https://ru.wikipedia.org/wiki/%D0%A1%D1%82%D0%B0%D1%82%D0%B8%D1%81%D1%82%D0%B8%D1%87%D0%B5%D1%81%D0%BA%D0%B8%D0%B9_%D0%BA%D1%80%D0%B8%D1%82%D0%B5%D1%80%D0%B8%D0%B9)\n",
    "\n",
    "Скорее всего, нужный вам критерий есть в scipy.\n",
    "\n",
    "Если в scipy нет нужного критерия, то он есть в другой python-библиотеке\n",
    "\n",
    "![critical_area](images/critical_area.png)"
   ]
  },
  {
   "cell_type": "markdown",
   "id": "2ac89110-d787-4eaf-b46b-6d9e8c5e4b92",
   "metadata": {},
   "source": [
    "### Шаг 4. Рассчитываем критерий\n",
    "\n",
    "Находим критическую область, находим значение статистического критерия для наших данных\n",
    "\n",
    "## Задача\n",
    "\n",
    "Реализовать функцию для подсчета одновыборочного t-критерия Стьюдента\n",
    "\n",
    "## $T = \\frac{a - a_0}{\\sigma / \\sqrt{df}}$\n",
    "\n",
    "$df$ - количество степеней свободы и равно $n - 1$"
   ]
  },
  {
   "cell_type": "code",
   "execution_count": 526,
   "id": "6e4b22fc-4f67-4fb8-bc11-b7177983486e",
   "metadata": {},
   "outputs": [],
   "source": [
    "def t_stat(sample_mean, a0, std, df):\n",
    "    # Ваш код здесь\n",
    "    pass"
   ]
  },
  {
   "cell_type": "markdown",
   "id": "004e21c5-4ade-41a5-9edc-c16a53e6e7ef",
   "metadata": {},
   "source": [
    "### Шаг 5. Принимаем решение\n",
    "\n",
    "Если значение критерий входит в критическую область, отклоняем гипотезу $H_0$ и принимаем $H_1$.\n",
    "\n",
    "Если лежит не в критической области, то не можем отклонить $H_0$"
   ]
  },
  {
   "cell_type": "markdown",
   "id": "728f99d7-7400-4387-be96-c799949943c3",
   "metadata": {},
   "source": [
    "## Пример\n",
    "\n",
    "Дана выборка с ростом людей. Известно, что рост людей (генеральной совокупности) распределен нормально. Проверить, равен ли средний рост людей 170 с уровнем значимости 0.05.\n",
    "\n",
    "Применим [t-критерий Стьюдента](https://ru.wikipedia.org/wiki/T-%D0%BA%D1%80%D0%B8%D1%82%D0%B5%D1%80%D0%B8%D0%B9_%D0%A1%D1%82%D1%8C%D1%8E%D0%B4%D0%B5%D0%BD%D1%82%D0%B0).\n",
    "\n",
    "$H_0: a = a_0$\n",
    "\n",
    "$H_1: a \\neq a_0 $"
   ]
  },
  {
   "cell_type": "code",
   "execution_count": 493,
   "id": "52ff2949-209c-47eb-92f5-c188941f56e1",
   "metadata": {},
   "outputs": [],
   "source": [
    "n = 100\n",
    "alpha = 0.05\n",
    "real_e = 170\n",
    "real_d = 10\n",
    "a0 = 170\n",
    "sample = np.random.normal(real_e, real_d, size=n)"
   ]
  },
  {
   "cell_type": "code",
   "execution_count": 520,
   "id": "dd176a1f-d98f-4fe2-892c-acb29fbad86e",
   "metadata": {},
   "outputs": [
    {
     "name": "stdout",
     "output_type": "stream",
     "text": [
      "H0 справедлива\n"
     ]
    }
   ],
   "source": [
    "# считаем статистику по данным\n",
    "statistic = t_stat(sample.mean(), a0, sample.std(), n - 1)\n",
    "\n",
    "# критическая область считается для распределения стьюдента\n",
    "critical_value = t.ppf(1 - alpha / 2, n - 1)\n",
    "\n",
    "if abs(statistic) < critical_value:\n",
    "    print('H0 справедлива')\n",
    "else:\n",
    "    print('H1 справедлива')"
   ]
  },
  {
   "cell_type": "markdown",
   "id": "ea6ae123-19d1-4944-9d11-f80e7cb5b7c6",
   "metadata": {},
   "source": [
    "Посчитаем p-value"
   ]
  },
  {
   "cell_type": "code",
   "execution_count": 522,
   "id": "c0f7656c-b150-431b-b226-a2c7e90d50b3",
   "metadata": {},
   "outputs": [
    {
     "data": {
      "text/plain": [
       "0.4736557003779305"
      ]
     },
     "execution_count": 522,
     "metadata": {},
     "output_type": "execute_result"
    }
   ],
   "source": [
    "p0 = t.cdf(statistic, n - 1) # Левосторонняя альтернатива\n",
    "p1 = 1 - t.cdf(statistic, n - 1) # Правосторонняя альтернатива\n",
    "p_value = 2 * min(p0, p1) # Двусторонняя альтернатива\n",
    "p_value"
   ]
  },
  {
   "cell_type": "markdown",
   "id": "d335cf37-2727-420f-bea3-e6b61e4e45dc",
   "metadata": {},
   "source": [
    "Проделаем тоже самое с помощью scipy"
   ]
  },
  {
   "cell_type": "code",
   "execution_count": 514,
   "id": "c18f5c10-4e15-4716-aee6-3b52021cfaf4",
   "metadata": {},
   "outputs": [
    {
     "data": {
      "text/plain": [
       "Ttest_1sampResult(statistic=0.7192917229001672, pvalue=0.4736557003779305)"
      ]
     },
     "execution_count": 514,
     "metadata": {},
     "output_type": "execute_result"
    }
   ],
   "source": [
    "result = scipy.stats.ttest_1samp(sample, 170)\n",
    "result"
   ]
  },
  {
   "cell_type": "code",
   "execution_count": 502,
   "id": "ae6b2bd5-a131-47ec-83f0-f4af286c82b8",
   "metadata": {},
   "outputs": [
    {
     "data": {
      "text/plain": [
       "(0.7192917229001672, 0.4736557003779305)"
      ]
     },
     "execution_count": 502,
     "metadata": {},
     "output_type": "execute_result"
    }
   ],
   "source": [
    "result.statistic, result.pvalue"
   ]
  },
  {
   "cell_type": "markdown",
   "id": "ca8bacb0-29ae-43f8-8cc2-f655d18b82c5",
   "metadata": {},
   "source": [
    "## Задача\n",
    "\n",
    "Сгенерировать две выборки роста людей с одинаковыми дисперсиями и разными матожиданиями (из нормального распределения). \n",
    "\n",
    "Опровергнуть гипотезу $H_0$ о том, что матожидания этих распределений равны.\n",
    "\n",
    "Для решения можно использовать scipy.stats.ttest_ind.\n",
    "\n",
    "Важно: тест работает только для распределений с равными дисперсиями. Можно поставить разные дисперсии и одинаковые матожидания и посмотреть на результаты."
   ]
  },
  {
   "cell_type": "code",
   "execution_count": 524,
   "id": "909bd5cc-9ea1-4b6f-b6f3-c0798e17538d",
   "metadata": {},
   "outputs": [],
   "source": [
    "# Ваш код здесь\n"
   ]
  },
  {
   "cell_type": "markdown",
   "id": "7803a48f-ee2a-49ac-a082-0696502b9faa",
   "metadata": {},
   "source": [
    "## Задача*\n",
    "\n",
    "Взять данные о погоде (data/weather.csv) и проверить на нормальность распределение первых разностей температуры. Использовать уровень значимости 0.05. Использовать любой критерий для проверки на нормальность."
   ]
  },
  {
   "cell_type": "code",
   "execution_count": 527,
   "id": "cb720876-0ba0-4a6f-ace0-d6e56d4d5b7d",
   "metadata": {},
   "outputs": [],
   "source": [
    "# Ваш код здесь\n"
   ]
  },
  {
   "cell_type": "markdown",
   "id": "7506787d-b811-4568-99d3-c452fc16eee1",
   "metadata": {},
   "source": [
    "# Домашняя работа\n",
    "\n",
    "Для домашней работы использовать данные Титаника\n",
    "\n",
    "## Easy\n",
    "\n",
    "Оценить с помощью доверительных интервалов:\n",
    "- выживаемость всех пассажиров (оценить среднее по isSurvived)\n",
    "- выживаемость женщин\n",
    "- выживаемость людей с каютами первого класса\n",
    "\n",
    "Ответить на вопросы:\n",
    "- какой вариант оценки доверительных интервалов нужно использовать в данной задаче и почему?\n",
    "- какая из ошибок более критична для данной задачи - I или II рода?\n",
    "\n",
    "## Medium\n",
    "\n",
    "- Проверить гипотезу о том, что женщины выживают чаще мужчин с уровнем значимости 0.05\n",
    "- Проверить гипотезу о том, что дети выживают чаще, чем взрослые\n",
    "\n",
    "## Hard\n",
    "\n",
    "Одной из важнейших тем в статистике является множественная проверка гипотез. \n",
    "\n",
    "Если нужно сделать несколько тестов для получения результата (например, хотим проверить сложную гипотезу = гипотеза 1 И гипотеза 2 И гипотеза 3), то вероятность совершить ошибку первого рода будет расти с каждой новой гипотезой.\n",
    "\n",
    "[Прочитать подробнее можно здесь](https://ru.wikipedia.org/wiki/%D0%9F%D0%BE%D0%BF%D1%80%D0%B0%D0%B2%D0%BA%D0%B0_%D0%BD%D0%B0_%D0%BC%D0%BD%D0%BE%D0%B6%D0%B5%D1%81%D1%82%D0%B2%D0%B5%D0%BD%D0%BD%D1%83%D1%8E_%D0%BF%D1%80%D0%BE%D0%B2%D0%B5%D1%80%D0%BA%D1%83_%D0%B3%D0%B8%D0%BF%D0%BE%D1%82%D0%B5%D0%B7)\n",
    "\n",
    "Задание состоит в том, чтобы выдвинуть несколько гипотез (можно использовать гипотезы из задач Easy и Medium), и проверить их сначала без поправки на множественную проверку гипотез, а потом с ней. \n",
    "\n",
    "Можно использовать любой метод поправки, главное его указать и по возможности обосновать.\n",
    "\n",
    "## Hard*\n",
    "\n",
    "Используя результаты из задачи Hard (если нужно, провести дополнительные эксперименты), построить модель, которая будет определять, выживет ли человек на Титанике.\n",
    "\n",
    "Решение загрузить на Kaggle, результат указать в ноутбуке. \n",
    "\n",
    "Получилось ли обогнать базовую модель?"
   ]
  }
 ],
 "metadata": {
  "kernelspec": {
   "display_name": "Python 3 (ipykernel)",
   "language": "python",
   "name": "python3"
  },
  "language_info": {
   "codemirror_mode": {
    "name": "ipython",
    "version": 3
   },
   "file_extension": ".py",
   "mimetype": "text/x-python",
   "name": "python",
   "nbconvert_exporter": "python",
   "pygments_lexer": "ipython3",
   "version": "3.9.7"
  }
 },
 "nbformat": 4,
 "nbformat_minor": 5
}
