{
 "cells": [
  {
   "cell_type": "markdown",
   "id": "268decea-c4b1-40ba-bd0b-9a111dc43a0b",
   "metadata": {},
   "source": [
    "# Математика для Data Science\n",
    "\n",
    "## Оптимизация\n",
    "\n",
    "Презентация с красивыми графиками\n",
    "\n",
    "https://iloveeconomics.ru/sites/default/files/n_d_optimization.pdf"
   ]
  },
  {
   "cell_type": "code",
   "execution_count": 20,
   "id": "8b0fa5f0-2fc1-4e21-be34-dba92b5922f0",
   "metadata": {},
   "outputs": [],
   "source": [
    "import numpy as np\n",
    "import pandas as pd\n",
    "import matplotlib.pyplot as plt\n",
    "\n",
    "from scipy.optimize import minimize"
   ]
  },
  {
   "cell_type": "markdown",
   "id": "9a9e78a4-ae76-42dd-a5ec-f79a305a1f13",
   "metadata": {},
   "source": [
    "Минимизируем функцию $f(x)=x^2-3x+2$"
   ]
  },
  {
   "cell_type": "code",
   "execution_count": 4,
   "id": "77f94c02-a5d2-46e3-a363-14767cacca80",
   "metadata": {},
   "outputs": [],
   "source": [
    "def f(x):\n",
    "    return x ** 2 - 3 * x + 2"
   ]
  },
  {
   "cell_type": "markdown",
   "id": "ecaef8a6-a735-43d4-9ad8-31637589ea87",
   "metadata": {},
   "source": [
    "Производная функции: $f'(x)=2x-3$\n",
    "\n",
    "$f'(x)=0 <=> x_{min} = \\frac{3}{2}$\n",
    "\n",
    "Проверим численно:"
   ]
  },
  {
   "cell_type": "code",
   "execution_count": 21,
   "id": "ec1fba4b-f97d-47e9-a511-04293ebc3131",
   "metadata": {},
   "outputs": [
    {
     "data": {
      "text/plain": [
       "      fun: -0.25\n",
       " hess_inv: array([[0.49999999]])\n",
       "      jac: array([0.])\n",
       "  message: 'Optimization terminated successfully.'\n",
       "     nfev: 10\n",
       "      nit: 4\n",
       "     njev: 5\n",
       "   status: 0\n",
       "  success: True\n",
       "        x: array([1.49999999])"
      ]
     },
     "execution_count": 21,
     "metadata": {},
     "output_type": "execute_result"
    }
   ],
   "source": [
    "x_start = 10\n",
    "minimize(f, (x_start,))"
   ]
  },
  {
   "cell_type": "markdown",
   "id": "bbffff4d-ddab-4f84-8327-da8c2a319564",
   "metadata": {},
   "source": [
    "Нарисуем график:"
   ]
  },
  {
   "cell_type": "code",
   "execution_count": 18,
   "id": "221c5939-0cb5-4230-9b98-99a9f736c458",
   "metadata": {},
   "outputs": [
    {
     "data": {
      "text/plain": [
       "[<matplotlib.lines.Line2D at 0x1ceae83b190>]"
      ]
     },
     "execution_count": 18,
     "metadata": {},
     "output_type": "execute_result"
    },
    {
     "data": {
      "image/png": "[encoded data removed]",
      "text/plain": [
       "<Figure size 432x288 with 1 Axes>"
      ]
     },
     "metadata": {
      "needs_background": "light"
     },
     "output_type": "display_data"
    }
   ],
   "source": [
    "x = np.linspace(-1, 4, 1000)\n",
    "y = f(x)\n",
    "minimum = np.ones_like(x) * -0.25\n",
    "\n",
    "plt.plot(x, y)\n",
    "plt.plot(x, minimum, '--')"
   ]
  },
  {
   "cell_type": "markdown",
   "id": "75d5802e-c9e9-4f06-9b69-5955696fb5c4",
   "metadata": {},
   "source": [
    "## Задача\n",
    "\n",
    "Максимизировать функцию $g(x)=-x^5 - 10x^4 + 5x^3 + 10$\n",
    "\n",
    "P.S. функции maximize нет в scipy"
   ]
  },
  {
   "cell_type": "code",
   "execution_count": null,
   "id": "830cd0d7-4dd9-4986-9ed9-9e98ca238086",
   "metadata": {},
   "outputs": [],
   "source": [
    "# Ваш код здесь\n"
   ]
  },
  {
   "cell_type": "markdown",
   "id": "a4bd834f-f755-440b-bb4b-8299e3fb948c",
   "metadata": {},
   "source": [
    "## Задача\n",
    "\n",
    "Построить график производной функции из прошлой задачи\n",
    "\n",
    "Производную можно вычислить аналитически и задать как функцию в python"
   ]
  },
  {
   "cell_type": "code",
   "execution_count": null,
   "id": "c6a9cd67-a673-4670-acbf-357ce07b2a91",
   "metadata": {},
   "outputs": [],
   "source": [
    "# Ваш код здесь\n"
   ]
  },
  {
   "cell_type": "markdown",
   "id": "a5eed591-0f40-417d-8697-0e8864d6ea56",
   "metadata": {},
   "source": [
    "Оптимизируем функцию многих переменных"
   ]
  },
  {
   "cell_type": "code",
   "execution_count": 22,
   "id": "615bf8a1-38b8-4afa-b064-4f4873912c1f",
   "metadata": {},
   "outputs": [],
   "source": [
    "def f(x, y):\n",
    "    return x ** 2 + y ** 2"
   ]
  },
  {
   "cell_type": "code",
   "execution_count": 24,
   "id": "b3478b51-d6e5-4716-99b8-4def04bdac99",
   "metadata": {},
   "outputs": [
    {
     "data": {
      "text/plain": [
       "      fun: 9.714371410949269e-13\n",
       " hess_inv: array([[ 0.75000002, -0.24999998],\n",
       "       [-0.24999998,  0.75000002]])\n",
       "      jac: array([-1.37896909e-06, -1.37896909e-06])\n",
       "  message: 'Optimization terminated successfully.'\n",
       "     nfev: 12\n",
       "      nit: 2\n",
       "     njev: 4\n",
       "   status: 0\n",
       "  success: True\n",
       "        x: array([-6.96935126e-07, -6.96935126e-07])"
      ]
     },
     "execution_count": 24,
     "metadata": {},
     "output_type": "execute_result"
    }
   ],
   "source": [
    "x_start = [10, 10]\n",
    "minimize(lambda x: f(x[0], x[1]), (x_start,))"
   ]
  },
  {
   "cell_type": "markdown",
   "id": "0788d0cf-be5c-410c-ae80-4f4c34180ac4",
   "metadata": {},
   "source": [
    "# Теория вероятности"
   ]
  },
  {
   "cell_type": "markdown",
   "id": "4cc95289-41ce-4ccb-9829-0a2cb0890513",
   "metadata": {},
   "source": [
    "Подбросим монетку разное количество раз"
   ]
  },
  {
   "cell_type": "code",
   "execution_count": 35,
   "id": "6baf847b-cbe6-4e48-a2b1-aa015cbaf615",
   "metadata": {},
   "outputs": [
    {
     "data": {
      "image/png": "[encoded data removed]",
      "text/plain": [
       "<Figure size 432x288 with 1 Axes>"
      ]
     },
     "metadata": {
      "needs_background": "light"
     },
     "output_type": "display_data"
    },
    {
     "data": {
      "image/png": "[encoded data removed]",
      "text/plain": [
       "<Figure size 432x288 with 1 Axes>"
      ]
     },
     "metadata": {
      "needs_background": "light"
     },
     "output_type": "display_data"
    },
    {
     "data": {
      "image/png": "[encoded data removed]",
      "text/plain": [
       "<Figure size 432x288 with 1 Axes>"
      ]
     },
     "metadata": {
      "needs_background": "light"
     },
     "output_type": "display_data"
    },
    {
     "data": {
      "image/png": "[encoded data removed]",
      "text/plain": [
       "<Figure size 432x288 with 1 Axes>"
      ]
     },
     "metadata": {
      "needs_background": "light"
     },
     "output_type": "display_data"
    }
   ],
   "source": [
    "for x_len in [10, 100, 1000, 10000]:\n",
    "    x = np.random.randint(1, 3, size=(x_len,))\n",
    "    plt.figure()\n",
    "    plt.title(f'Гистограмма для x={x_len}')\n",
    "    plt.hist(x)"
   ]
  },
  {
   "cell_type": "markdown",
   "id": "e8816527-a68c-49b2-b4db-295d943cbd61",
   "metadata": {},
   "source": [
    "## Независимые события\n",
    "\n",
    "Для независимых событий A и B с вероятностями P(A) и P(B) совместная вероятность (произойдут оба события) считается по формуле\n",
    "\n",
    "$P(AB) = P(A)P(B)$\n",
    "\n",
    "Если хотим посчитать вероятность хотя бы одного из двух\n",
    "\n",
    "$P(A+B) = P(A) + P(B) - P(AB)$"
   ]
  },
  {
   "cell_type": "markdown",
   "id": "f0678dd4-1bfe-400f-9e41-ffac332a23e4",
   "metadata": {},
   "source": [
    "## Дискретные и непрерывные величины\n",
    "\n",
    "Примеры дискретных величин:\n",
    "\n",
    "- Бросок монетки\n",
    "- Бросок игрального кубика\n",
    "- Вероятность брака изделия\n",
    "\n",
    "Пример непрерывной величины:\n",
    "\n",
    "- Значение температуры в комнате за какой-то промежуток времени\n",
    "- Время прихода автобуса\n",
    "\n",
    "### Какие величины непрерывные, а какие дискретные?\n",
    "\n",
    "- Вероятность выжить на титанике\n",
    "- Изменение цены показателя на бирже\n",
    "- Пол новорожденного ребенка\n",
    "- Время, в которое на футбольном матче произойдет первый гол"
   ]
  },
  {
   "cell_type": "markdown",
   "id": "cadda8c6-7425-4be5-9b93-60a85187f936",
   "metadata": {},
   "source": [
    "## Функция распределения\n",
    "\n",
    "Это функция $F(x)$, которая характеризует вероятность того, что случайная величина примет значение, меньшее $х$\n",
    "\n",
    "![data/discrete.png](images/discrete.png)\n",
    "![uniform](images/uniform.png)"
   ]
  },
  {
   "cell_type": "markdown",
   "id": "aedacbe0-0327-45d8-a86e-706cb0ffae21",
   "metadata": {},
   "source": [
    "## Функция плотности распределения\n",
    "\n",
    "Это функция $f(x)=F'(x)$\n",
    "\n",
    "<img src=\"images/norm_distribution.png\" alt=\"Drawing\" style=\"width: 600px;\"/>"
   ]
  },
  {
   "cell_type": "markdown",
   "id": "83100ad8-3986-4102-9d82-88c6c7471fa2",
   "metadata": {},
   "source": [
    "Вероятность того, что событие произойдет в промежутке $(a, b)$ равно интегралу функции плотности от $a$ до $b$"
   ]
  },
  {
   "cell_type": "code",
   "execution_count": 90,
   "id": "191f0701-bd20-4d5a-b93f-a4541d19fda0",
   "metadata": {},
   "outputs": [
    {
     "data": {
      "text/plain": [
       "<AxesSubplot:ylabel='Density'>"
      ]
     },
     "execution_count": 90,
     "metadata": {},
     "output_type": "execute_result"
    },
    {
     "data": {
      "image/png": "[encoded data removed]",
      "text/plain": [
       "<Figure size 432x288 with 1 Axes>"
      ]
     },
     "metadata": {
      "needs_background": "light"
     },
     "output_type": "display_data"
    }
   ],
   "source": [
    "x = np.random.normal(loc=0, scale=1, size=(1000,))\n",
    "y = np.random.normal(loc=5, scale=2, size=(1000,))\n",
    "x_df = pd.DataFrame(x)\n",
    "y_df = pd.DataFrame(y)\n",
    "x_df[0].plot(kind='density')\n",
    "y_df[0].plot(kind='density')"
   ]
  },
  {
   "cell_type": "markdown",
   "id": "847cb9c3-7896-46cf-8807-e074b9ae3c4b",
   "metadata": {},
   "source": [
    "Смешаем распределения"
   ]
  },
  {
   "cell_type": "code",
   "execution_count": 88,
   "id": "30a36b62-ba20-4473-8316-c80b5bdd4a0f",
   "metadata": {},
   "outputs": [
    {
     "data": {
      "text/plain": [
       "<AxesSubplot:ylabel='Density'>"
      ]
     },
     "execution_count": 88,
     "metadata": {},
     "output_type": "execute_result"
    },
    {
     "data": {
      "image/png": "[encoded data removed]",
      "text/plain": [
       "<Figure size 432x288 with 1 Axes>"
      ]
     },
     "metadata": {
      "needs_background": "light"
     },
     "output_type": "display_data"
    }
   ],
   "source": [
    "x_df.append(y_df).plot(kind='density')"
   ]
  },
  {
   "cell_type": "markdown",
   "id": "44b13eff-1fe3-479c-bd01-350b7c6f5e63",
   "metadata": {
    "tags": []
   },
   "source": [
    "## Нормальное распределение\n",
    "\n",
    "Задается функцией плотности распределения\n",
    "\n",
    "## $$f(x) = \\frac{1}{\\sigma \\sqrt{2\\pi}}e^{-\\frac{1}{2}(\\frac{x-\\mu}{\\sigma})^2}$$\n",
    "\n",
    "Среднее, мода и медиана совпадают и равны $\\mu$\n",
    "\n",
    "Среднеквадратичное отклонение равно $\\sigma$\n",
    "\n",
    "Дисперсия равна $\\sigma^2$\n",
    "\n",
    "Функция распределения называется функцией Лапласа (интеграл от функции выше)\n",
    "\n",
    "### Примеры нормального распределения\n",
    "\n",
    "- отклонение при стрельбе\n",
    "- погрешности измерений\n",
    "- рост людей\n",
    "\n",
    "### Приведение нормального распределения к стандартному\n",
    "\n",
    "x - из нестандартного нормального распределения со средним $\\mu$ и среднеквадратичным отклонением $\\sigma$\n",
    "\n",
    "z - соответствующий элемент из стандартного нормального распределения\n",
    "\n",
    "## $z = \\frac{x - \\mu}{\\sigma}$"
   ]
  },
  {
   "cell_type": "markdown",
   "id": "134c6364-b4bf-454e-954a-8b5c6c77ea62",
   "metadata": {},
   "source": [
    "## Пример\n",
    "\n",
    "Из пункта $C$ ведётся стрельба из орудия вдоль прямой $CK$.\n",
    "\n",
    "Предполагается, что дальность полёта распределена нормально с математическим ожиданием 1000 м и средним квадратическим отклонением 5 м.\n",
    "\n",
    "Определить (в процентах) сколько снарядов упадёт с перелётом от 5 до 70м."
   ]
  },
  {
   "cell_type": "code",
   "execution_count": 101,
   "id": "7ea6a970-accf-4361-add0-933fd9dafb2e",
   "metadata": {},
   "outputs": [],
   "source": [
    "import scipy.stats\n",
    "\n",
    "# Функция Лапласа для стандартного нормального распределения\n",
    "def normal_integral(x):\n",
    "    return scipy.stats.norm.cdf(x) - 0.5"
   ]
  },
  {
   "cell_type": "markdown",
   "id": "4286adc0-83c8-42e0-92cb-ab9071d856dd",
   "metadata": {},
   "source": [
    "Вероятность того, что событие $x$ произойдет в промежутке $[a, b]$ ($x$ из стандартного нормального распределения)\n",
    "\n",
    "$P(x \\in [a, b]) = \\Phi(b) - \\Phi(a) $"
   ]
  },
  {
   "cell_type": "code",
   "execution_count": 104,
   "id": "e94a8c14-67a4-4b8d-a610-9105a8a8476b",
   "metadata": {},
   "outputs": [
    {
     "data": {
      "text/plain": [
       "15.87"
      ]
     },
     "execution_count": 104,
     "metadata": {},
     "output_type": "execute_result"
    }
   ],
   "source": [
    "a = (1005 - 1000) / 5\n",
    "b = (1070 - 1000) / 5\n",
    "answer = normal_integral(b) - normal_integral(a)\n",
    "\n",
    "round(answer * 100, 2)"
   ]
  },
  {
   "cell_type": "markdown",
   "id": "2954f714-ec28-4c40-ad7f-17f7d8073b86",
   "metadata": {},
   "source": [
    "### Правило трех сигм\n",
    "\n",
    "При нормальном распределении с вероятностью 99% все события лежат в интервале $[\\mu - 3\\sigma, \\mu + 3\\sigma]$\n",
    "\n",
    "<img src=\"images/3-sigma.svg\" alt=\"Drawing\" style=\"width: 600px;\"/>"
   ]
  },
  {
   "cell_type": "markdown",
   "id": "11db5d2d-3611-46b3-a047-9a1da6d7c0c3",
   "metadata": {},
   "source": [
    "## Задача \n",
    "\n",
    "Диаметр подшипников, изготовленных на заводе, представляет собой случайную величину, распределенную нормально с математическим ожиданием 1,5 см и средним квадратическим отклонением 0,04 см.\n",
    "\n",
    "Найти вероятность того, что размер наугад взятого подшипника колеблется от 1,4 до 1,6 см.\n",
    "\n",
    "Оценить порядок величины можно при помощи правила трех сигм (точный ответ можно получить как в задаче выше)"
   ]
  },
  {
   "cell_type": "code",
   "execution_count": 107,
   "id": "a7be3be6-3e6d-4e56-8fa7-5904bb213a1f",
   "metadata": {},
   "outputs": [],
   "source": [
    "# Ваш код здесь\n"
   ]
  },
  {
   "cell_type": "markdown",
   "id": "e8c6e7c4-03d6-4898-8a24-122a8f109eba",
   "metadata": {},
   "source": [
    "## Условная вероятность\n",
    "\n",
    "$P(B|A)$ - вероятность того, что произойдет событие B, если произошло событие A\n",
    "\n",
    "Отсюда следует формула вероятности совместного наступления событий A и B:\n",
    "\n",
    "$P(AB)=P(A)P(B|A)=P(B)P(B|A)$\n"
   ]
  },
  {
   "cell_type": "markdown",
   "id": "a56a0e59-6a8f-4fc8-b7f9-96d433ac6f0b",
   "metadata": {},
   "source": [
    "### Формула полной вероятности\n",
    "\n",
    "Пусть событие $A$ осуществляется лишь при совершении одного из событий $B_1, B_2, ..., B_n$, причем сумма вероятностей $B_i$ равна 1\n",
    "\n",
    "Тогда вероятность события A будет равна\n",
    "\n",
    "### $P(A) = P(B_1)P(A|B_1) + P(B_2)P(A|B_2) + ... + P(B_n)P(A|B_n)$"
   ]
  },
  {
   "cell_type": "markdown",
   "id": "e57559d4-eb17-4fd8-8b7a-99b8f2e40168",
   "metadata": {
    "tags": []
   },
   "source": [
    "## Задача\n",
    "\n",
    "Имеются три одинаковые урны.\n",
    "\n",
    "В первой урне находятся 4 белых и 7 черных шаров, во второй – только белые и в третьей – только черные шары.\n",
    "\n",
    "Наудачу выбирается одна урна и из неё наугад извлекается шар. \n",
    "\n",
    "Какова вероятность того, что этот шар чёрный?"
   ]
  },
  {
   "cell_type": "markdown",
   "id": "0c7e1df4-a11c-4edc-94ad-88a7e0dfe470",
   "metadata": {},
   "source": [
    "### Теорема Байеса\n",
    "\n",
    "Допустим, мы предполагаем, что событие $A$ произойдет с вероятность $P(A)$, а $B$ с вероятностью $P(B)$ и эти события связаны. \n",
    "\n",
    "Если совершается событие $B$, то мы можем пересчитать вероятность события $A$\n",
    "\n",
    "## $P(A|B) = \\frac{P(B|A)  P(A)}{P(B)}$\n",
    "\n",
    "Причем $P(B)$ обычно считаем по формуле полной вероятности"
   ]
  },
  {
   "cell_type": "markdown",
   "id": "9948c43e-ea66-41f2-bc39-81f1f13cf504",
   "metadata": {},
   "source": [
    "## Пример\n",
    "\n",
    "На склад поступило 2 партии изделий: первая – 4000 штук, вторая – 6000 штук. \n",
    "\n",
    "Средний процент нестандартных изделий в первой партии составляет 20%, а во второй – 10%.\n",
    "\n",
    "Наудачу взятое со склада изделие оказалось стандартным. Найти вероятность того, что оно:\n",
    "\n",
    "а) из первой партии\n",
    "\n",
    "б) из второй партии.\n",
    "\n",
    "### Решение\n",
    "\n",
    "Всего на складе 10000 изделий.\n",
    "\n",
    "Тогда \n",
    "\n",
    "$P(B_1)=0.4$\n",
    "\n",
    "$P(B_2)=0.6$\n",
    "\n",
    "Пусть, $A$ - наудачу взятое изделие оказалось стандартным\n",
    "\n",
    "$P(A|B_1) = 1 - 0.2 = 0.8$\n",
    "\n",
    "$P(A|B_2) = 1 - 0.1 = 0.9$\n",
    "\n",
    "$P(A) = P(B_1)P(A|B_1) + P(B_2)P(A|B_2) = 0.86$\n",
    "\n",
    "Остается применить формулу Байеса:\n",
    "\n",
    "$P(B_1|A) - ?$\n",
    "\n",
    "$P(B_2|A) - ?$"
   ]
  },
  {
   "cell_type": "markdown",
   "id": "1a9c94c7-4216-4f75-bed8-8caea173c1a0",
   "metadata": {},
   "source": [
    "## Задача\n",
    "\n",
    "По данным о погоде определить:\n",
    "\n",
    "- вероятность того, что температура будет в промежутке от 10 до 20 градусов\n",
    "- вероятность того, что температура изменится больше, чем на 5 градусов на следующий день\n",
    "- вероятность получить отрицательную температуру зимой"
   ]
  },
  {
   "cell_type": "code",
   "execution_count": 118,
   "id": "9ddf805f-342f-4a8e-998e-d57b7f450249",
   "metadata": {},
   "outputs": [
    {
     "data": {
      "text/html": [
       "<div>\n",
       "<style scoped>\n",
       "    .dataframe tbody tr th:only-of-type {\n",
       "        vertical-align: middle;\n",
       "    }\n",
       "\n",
       "    .dataframe tbody tr th {\n",
       "        vertical-align: top;\n",
       "    }\n",
       "\n",
       "    .dataframe thead th {\n",
       "        text-align: right;\n",
       "    }\n",
       "</style>\n",
       "<table border=\"1\" class=\"dataframe\">\n",
       "  <thead>\n",
       "    <tr style=\"text-align: right;\">\n",
       "      <th></th>\n",
       "      <th>t</th>\n",
       "    </tr>\n",
       "    <tr>\n",
       "      <th>Day</th>\n",
       "      <th></th>\n",
       "    </tr>\n",
       "  </thead>\n",
       "  <tbody>\n",
       "    <tr>\n",
       "      <th>2008-01-01</th>\n",
       "      <td>0</td>\n",
       "    </tr>\n",
       "    <tr>\n",
       "      <th>2008-01-02</th>\n",
       "      <td>-5</td>\n",
       "    </tr>\n",
       "    <tr>\n",
       "      <th>2008-01-03</th>\n",
       "      <td>-11</td>\n",
       "    </tr>\n",
       "    <tr>\n",
       "      <th>2008-01-04</th>\n",
       "      <td>-11</td>\n",
       "    </tr>\n",
       "    <tr>\n",
       "      <th>2008-01-05</th>\n",
       "      <td>-12</td>\n",
       "    </tr>\n",
       "    <tr>\n",
       "      <th>...</th>\n",
       "      <td>...</td>\n",
       "    </tr>\n",
       "    <tr>\n",
       "      <th>2016-12-27</th>\n",
       "      <td>1</td>\n",
       "    </tr>\n",
       "    <tr>\n",
       "      <th>2016-12-28</th>\n",
       "      <td>-3</td>\n",
       "    </tr>\n",
       "    <tr>\n",
       "      <th>2016-12-29</th>\n",
       "      <td>0</td>\n",
       "    </tr>\n",
       "    <tr>\n",
       "      <th>2016-12-30</th>\n",
       "      <td>3</td>\n",
       "    </tr>\n",
       "    <tr>\n",
       "      <th>2016-12-31</th>\n",
       "      <td>4</td>\n",
       "    </tr>\n",
       "  </tbody>\n",
       "</table>\n",
       "<p>3285 rows × 1 columns</p>\n",
       "</div>"
      ],
      "text/plain": [
       "             t\n",
       "Day           \n",
       "2008-01-01   0\n",
       "2008-01-02  -5\n",
       "2008-01-03 -11\n",
       "2008-01-04 -11\n",
       "2008-01-05 -12\n",
       "...         ..\n",
       "2016-12-27   1\n",
       "2016-12-28  -3\n",
       "2016-12-29   0\n",
       "2016-12-30   3\n",
       "2016-12-31   4\n",
       "\n",
       "[3285 rows x 1 columns]"
      ]
     },
     "execution_count": 118,
     "metadata": {},
     "output_type": "execute_result"
    }
   ],
   "source": [
    "# Ваш код здесь\n",
    "df = pd.read_csv('data/weather.csv', index_col=0, parse_dates=True)\n",
    "df"
   ]
  },
  {
   "cell_type": "markdown",
   "id": "15b6e695-9ebd-4c53-a993-9892ba31b898",
   "metadata": {},
   "source": [
    "## Задача\n",
    "\n",
    "По тем же данным посчитать:\n",
    "\n",
    "- вероятность получить отрицательную температуру, используя формулу полной вероятности (гипотезы - времена года).\n",
    "- вероятность, что сейчас зима, если известно, что температура отрицательна."
   ]
  },
  {
   "cell_type": "code",
   "execution_count": null,
   "id": "65782f02-34ff-4c1e-ba1d-0262c554ccef",
   "metadata": {},
   "outputs": [],
   "source": []
  },
  {
   "cell_type": "markdown",
   "id": "e6b58c96-b0f5-4178-8245-adb97302d611",
   "metadata": {},
   "source": [
    "## Разница между байесовской вероятностью и классической\n",
    "\n",
    "<img src=\"images/bayesianjpg.jpg\" alt=\"Drawing\" style=\"width: 600px;\"/>"
   ]
  },
  {
   "cell_type": "markdown",
   "id": "4a773650-9524-4315-a168-0ecfddb2ea18",
   "metadata": {},
   "source": [
    "## Теорема Байеса и тест на ВИЧ\n",
    "\n",
    "https://www.facebook.com/mifnauka/posts/1819406961640274/"
   ]
  },
  {
   "cell_type": "markdown",
   "id": "98369699-a48d-4c25-b0be-c39a92be1551",
   "metadata": {},
   "source": [
    "# Домашнее задание\n",
    "\n",
    "Для выполнения ДЗ опять используем данные Титаника\n",
    "\n",
    "## Easy\n",
    "\n",
    "Вычислить вероятность выживания, если пассажиру:\n",
    "\n",
    "- от 0 до 25 лет\n",
    "- от 25 до 50 лет\n",
    "- от 50 лет и старше\n",
    "\n",
    "## Medium\n",
    "\n",
    "Вычислить с какой вероятностью пассажир женского пола, если известно, что он выжил (использовать теорему Байеса)\n",
    "\n",
    "## Hard\n",
    "\n",
    "Закон распределения задается функцией плотности \n",
    "\n",
    "$ f(x) = \\lambda e^{-\\lambda x}, x > 0 $\n",
    "\n",
    "$ f(x) = 0, x <= 0 $\n",
    "\n",
    "Найти вероятность того, что событие произойдет при $x \\in [1, 2]$\n",
    "\n",
    "P.S. в scipy есть функция для интегрирования функции"
   ]
  },
  {
   "cell_type": "code",
   "execution_count": null,
   "id": "2b98ddce-4302-4949-b680-d444f6cb5301",
   "metadata": {},
   "outputs": [],
   "source": []
  }
 ],
 "metadata": {
  "kernelspec": {
   "display_name": "Python 3 (ipykernel)",
   "language": "python",
   "name": "python3"
  },
  "language_info": {
   "codemirror_mode": {
    "name": "ipython",
    "version": 3
   },
   "file_extension": ".py",
   "mimetype": "text/x-python",
   "name": "python",
   "nbconvert_exporter": "python",
   "pygments_lexer": "ipython3",
   "version": "3.9.7"
  }
 },
 "nbformat": 4,
 "nbformat_minor": 5
}
